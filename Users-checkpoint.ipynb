{
 "cells": [
  {
   "cell_type": "code",
   "execution_count": null,
   "id": "72ce04e2",
   "metadata": {},
   "outputs": [],
   "source": [
    "a = input(\"값을 입력\")\n",
    "b = 0\n",
    "while a != b:\n",
    "    b = input(\"ur guess\")\n",
    "    if a > b:\n",
    "        print(\"up\")\n",
    "    elif a < b:\n",
    "        print(\"down\")\n",
    "    elif a == b:\n",
    "        print(\"정답입니다\")"
   ]
  },
  {
   "cell_type": "code",
   "execution_count": 2,
   "id": "8449c4f9",
   "metadata": {},
   "outputs": [],
   "source": [
    "import random"
   ]
  },
  {
   "cell_type": "code",
   "execution_count": 3,
   "id": "510eadef",
   "metadata": {},
   "outputs": [
    {
     "data": {
      "text/plain": [
       "21"
      ]
     },
     "execution_count": 3,
     "metadata": {},
     "output_type": "execute_result"
    }
   ],
   "source": [
    "random.randint(1,50)"
   ]
  },
  {
   "cell_type": "code",
   "execution_count": 4,
   "id": "bf73d02a",
   "metadata": {
    "scrolled": false
   },
   "outputs": [
    {
     "name": "stdout",
     "output_type": "stream",
     "text": [
      "expectation13\n",
      "down\n",
      "1\n",
      "expectation15\n",
      "down\n",
      "2\n",
      "expectation12\n",
      "down\n",
      "3\n",
      "expectation9\n",
      "up\n",
      "4\n",
      "expectation10\n",
      "up\n",
      "5\n",
      "expectation11\n",
      "congrats\n",
      "6\n"
     ]
    }
   ],
   "source": [
    "x = random.randint(1,50)\n",
    "y = 0\n",
    "n = 0\n",
    "while x != y:\n",
    "    y = int(input(\"expectation\"))\n",
    "    if x > y:\n",
    "        print(\"up\")\n",
    "    elif x < y:\n",
    "        print(\"down\")\n",
    "    elif x == y:\n",
    "        print(\"congrats\")\n",
    "    n += 1\n",
    "    print(n)"
   ]
  },
  {
   "cell_type": "code",
   "execution_count": null,
   "id": "4ca9b980",
   "metadata": {
    "scrolled": true
   },
   "outputs": [],
   "source": [
    "n = 0\n",
    "while n != 10:\n",
    "    n += 1\n",
    "    print(n)"
   ]
  },
  {
   "cell_type": "code",
   "execution_count": 9,
   "id": "47710d86",
   "metadata": {},
   "outputs": [
    {
     "data": {
      "text/plain": [
       "range(1, 11)"
      ]
     },
     "execution_count": 9,
     "metadata": {},
     "output_type": "execute_result"
    }
   ],
   "source": [
    "range(1,11)"
   ]
  },
  {
   "cell_type": "code",
   "execution_count": 12,
   "id": "13d70cc8",
   "metadata": {
    "scrolled": true
   },
   "outputs": [
    {
     "name": "stdout",
     "output_type": "stream",
     "text": [
      "1\n",
      "2\n",
      "3\n",
      "4\n",
      "5\n",
      "6\n",
      "7\n",
      "8\n",
      "9\n",
      "10\n"
     ]
    }
   ],
   "source": [
    "for a in range(1,11):\n",
    "    print(a)"
   ]
  },
  {
   "cell_type": "code",
   "execution_count": 19,
   "id": "81d0d5dc",
   "metadata": {},
   "outputs": [
    {
     "name": "stdout",
     "output_type": "stream",
     "text": [
      "1\n",
      "3\n",
      "6\n",
      "10\n",
      "15\n",
      "21\n",
      "28\n",
      "36\n",
      "45\n",
      "55\n"
     ]
    }
   ],
   "source": [
    "n = 0\n",
    "for i in range(1,11):\n",
    "    n += i\n",
    "    print(n)"
   ]
  },
  {
   "cell_type": "code",
   "execution_count": 26,
   "id": "5b0e4361",
   "metadata": {
    "scrolled": false
   },
   "outputs": [
    {
     "name": "stdout",
     "output_type": "stream",
     "text": [
      "2\n",
      "4\n",
      "7\n",
      "11\n",
      "16\n",
      "22\n",
      "29\n",
      "37\n",
      "46\n",
      "56\n"
     ]
    }
   ],
   "source": [
    "n = 1\n",
    "a = [1,2,3,4,5,6,7,8,9,10]\n",
    "for i in a:\n",
    "    n += i\n",
    "    print(n)"
   ]
  },
  {
   "cell_type": "code",
   "execution_count": 36,
   "id": "73ead788",
   "metadata": {
    "scrolled": true
   },
   "outputs": [
    {
     "ename": "SyntaxError",
     "evalue": "invalid syntax (Temp/ipykernel_26108/3439732752.py, line 6)",
     "output_type": "error",
     "traceback": [
      "\u001b[1;36m  File \u001b[1;32m\"C:\\Users\\jhw00\\AppData\\Local\\Temp/ipykernel_26108/3439732752.py\"\u001b[1;36m, line \u001b[1;32m6\u001b[0m\n\u001b[1;33m    if b == 1:\u001b[0m\n\u001b[1;37m             ^\u001b[0m\n\u001b[1;31mSyntaxError\u001b[0m\u001b[1;31m:\u001b[0m invalid syntax\n"
     ]
    }
   ],
   "source": [
    "a = int(input(\"금액을 투입하시오\"))\n",
    "b = int(input(\"메뉴 입력하시오\",\n",
    "             \"1 아메리카노\",\n",
    "             \"2 카페 라떼\",\n",
    "             \"3 스무디\")\n",
    "if b == 1:\n",
    "        c = a - 1000\n",
    "elif b == 2:\n",
    "        c = a - 2000 \n",
    "else b == 3:\n",
    "        c = a - 3000 \n",
    "\n",
    "exc = c\n",
    "print(\"change:\",exc)\n",
    "        "
   ]
  },
  {
   "cell_type": "code",
   "execution_count": null,
   "id": "62e332bc",
   "metadata": {},
   "outputs": [],
   "source": []
  }
 ],
 "metadata": {
  "kernelspec": {
   "display_name": "Python 3 (ipykernel)",
   "language": "python",
   "name": "python3"
  },
  "language_info": {
   "codemirror_mode": {
    "name": "ipython",
    "version": 3
   },
   "file_extension": ".py",
   "mimetype": "text/x-python",
   "name": "python",
   "nbconvert_exporter": "python",
   "pygments_lexer": "ipython3",
   "version": "3.9.7"
  }
 },
 "nbformat": 4,
 "nbformat_minor": 5
}
