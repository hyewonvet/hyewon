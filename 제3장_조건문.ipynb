{
 "cells": [
  {
   "cell_type": "code",
   "execution_count": 3,
   "metadata": {},
   "outputs": [],
   "source": [
    "# b조건 if\n",
    "\n",
    "#if 조건문 : \n",
    "#    실행문\n",
    "   \n",
    "# 조건문이 True이면 실행문을 실행하고 False이면 실행하지 않음 "
   ]
  },
  {
   "cell_type": "code",
   "execution_count": 7,
   "metadata": {},
   "outputs": [
    {
     "name": "stdout",
     "output_type": "stream",
     "text": [
      "택시를 탄다\n",
      "택시를 탄다\n"
     ]
    }
   ],
   "source": [
    "money = 10000\n",
    "\n",
    "if money >= 10000:\n",
    "    print(\"택시를 탄다\")\n",
    "    print(\"택시를 탄다\")"
   ]
  },
  {
   "cell_type": "code",
   "execution_count": 9,
   "metadata": {},
   "outputs": [
    {
     "name": "stdout",
     "output_type": "stream",
     "text": [
      "숫자를 입력하세요 >> 21\n"
     ]
    }
   ],
   "source": [
    "# 숫자를 입력받아서 짝수이면 \"짝수입니다\" 출력\n",
    "num = int(input(\"숫자를 입력하세요 >> \"))\n",
    "\n",
    "if num % 2 == 0 :\n",
    "    print(\"짝수입니다\")"
   ]
  },
  {
   "cell_type": "markdown",
   "metadata": {},
   "source": [
    "조건문 if else"
   ]
  },
  {
   "cell_type": "code",
   "execution_count": null,
   "metadata": {},
   "outputs": [],
   "source": [
    "# if 조건문 :\n",
    "#      실행문1\n",
    "# else:\n",
    "#      실행문2\n",
    "\n",
    "# 조건문 True이면 실행문1을 실행하고\n",
    "# False이면 실행문2를 실행한다"
   ]
  },
  {
   "cell_type": "code",
   "execution_count": 13,
   "metadata": {},
   "outputs": [
    {
     "name": "stdout",
     "output_type": "stream",
     "text": [
      "택시를 탄다\n"
     ]
    }
   ],
   "source": [
    "money = 10000\n",
    "\n",
    "if money >= 10000 :\n",
    "    print(\"택시를 탄다\")\n",
    "else:\n",
    "    print(\"버스를 탄다\")"
   ]
  },
  {
   "cell_type": "code",
   "execution_count": 15,
   "metadata": {},
   "outputs": [
    {
     "name": "stdout",
     "output_type": "stream",
     "text": [
      "숫자를 입력하세요 >> 1\n",
      "홀수입니다\n"
     ]
    }
   ],
   "source": [
    "# 숫자를 입력받아서 짝수이면 \"짝수입니다\" 출력하고\n",
    "# 홀수이면 \"홀수입니다\" 출력\n",
    "num = int(input(\"숫자를 입력하세요 >> \"))\n",
    "\n",
    "if num % 2 == 0 :\n",
    "    print(\"짝수입니다\")\n",
    "else:\n",
    "    print(\"홀수입니다\")"
   ]
  },
  {
   "cell_type": "markdown",
   "metadata": {},
   "source": [
    "조건문 if elif else"
   ]
  },
  {
   "cell_type": "code",
   "execution_count": 17,
   "metadata": {},
   "outputs": [],
   "source": [
    "# if 조건문1 :\n",
    "#     실행문1\n",
    "# elif 조건문2 :\n",
    "#     실행문2\n",
    "# else:\n",
    "#     실행문3\n",
    "\n",
    "# 조건문1이 True 실행문1을 수행하고\n",
    "# False이면 조건문2를 판단해서 True이면 실행문2를 수행하고\n",
    "# False이면 실행문3을 수행"
   ]
  },
  {
   "cell_type": "code",
   "execution_count": 20,
   "metadata": {},
   "outputs": [
    {
     "name": "stdout",
     "output_type": "stream",
     "text": [
      "걸어간다\n"
     ]
    }
   ],
   "source": [
    "money = 2000\n",
    "\n",
    "if money >= 10000 :\n",
    "    print(\"택시를 탄다\")\n",
    "elif money >= 3000:\n",
    "    print(\"버스를 탄다\")\n",
    "else:\n",
    "    print(\"걸어간다\")"
   ]
  },
  {
   "cell_type": "markdown",
   "metadata": {},
   "source": [
    "### 새해 첫날 복습"
   ]
  },
  {
   "cell_type": "markdown",
   "metadata": {},
   "source": [
    "연산자\n",
    "\n",
    "- 산술연산자 : +, -, *, /, //, %\n",
    "- 지수연산자 : **\n",
    "- 대입연산자 : =, 산술연산자=\n",
    "- 관계(비교)연산자 : ==, !=, >, >=, <, <=\n",
    "- 논리연산자 : and, or, not\n",
    "- 삼항연산자 : 실행문1 if 조건문 else 실행문2"
   ]
  },
  {
   "cell_type": "code",
   "execution_count": 1,
   "metadata": {},
   "outputs": [
    {
     "name": "stdout",
     "output_type": "stream",
     "text": [
      "100200\n"
     ]
    }
   ],
   "source": [
    "# + 연산자가 문자열과 만나면 -> 결합(연결) 연산자\n",
    "\n",
    "print(\"100\" + \"200\")"
   ]
  },
  {
   "cell_type": "code",
   "execution_count": 2,
   "metadata": {},
   "outputs": [
    {
     "name": "stdout",
     "output_type": "stream",
     "text": [
      "300\n"
     ]
    }
   ],
   "source": [
    "# 문자열로 된 숫자을 연산하려면 ? -> int() 함수로 정수로 변환\n",
    "print(int(\"100\") + int(\"200\"))"
   ]
  },
  {
   "cell_type": "code",
   "execution_count": 6,
   "metadata": {},
   "outputs": [
    {
     "name": "stdout",
     "output_type": "stream",
     "text": [
      "314.0\n"
     ]
    }
   ],
   "source": [
    "# 문자열로 된 실수를 연산하려면 ? -> float()\n",
    "pi = \"3.14\"\n",
    "r = 10\n",
    "\n",
    "print(float(pi) * r * r)"
   ]
  },
  {
   "cell_type": "code",
   "execution_count": 4,
   "metadata": {},
   "outputs": [
    {
     "name": "stdout",
     "output_type": "stream",
     "text": [
      "100200\n"
     ]
    }
   ],
   "source": [
    "# 숫자를 문자열로 변경 -> str()\n",
    "# print(100 + \"200\") -> 타입이 다르기 때문에 에러 발생\n",
    "print(str(100) + \"200\")"
   ]
  },
  {
   "cell_type": "code",
   "execution_count": 7,
   "metadata": {},
   "outputs": [
    {
     "name": "stdout",
     "output_type": "stream",
     "text": [
      "PythonPythonPythonPythonPythonPythonPythonPythonPythonPython\n"
     ]
    }
   ],
   "source": [
    "# * 연산자가 문자열과 만나면 ? -> 반복연산자 (문자열을 반복)\n",
    "print(\"Python\" * 10)"
   ]
  },
  {
   "cell_type": "code",
   "execution_count": 17,
   "metadata": {},
   "outputs": [
    {
     "name": "stdout",
     "output_type": "stream",
     "text": [
      "3\n",
      "1\n"
     ]
    }
   ],
   "source": [
    "# // (몫) , % (나머지)\n",
    "num1 = 10\n",
    "num2 = 3\n",
    "\n",
    "print(num1 // num2)\n",
    "print(num1 % num2)"
   ]
  },
  {
   "cell_type": "code",
   "execution_count": 18,
   "metadata": {},
   "outputs": [
    {
     "name": "stdout",
     "output_type": "stream",
     "text": [
      "30\n",
      "23\n"
     ]
    }
   ],
   "source": [
    "# 대입(복합) 연산자 : 산술연산자=\n",
    "\n",
    "num1 = num1 + 20\n",
    "\n",
    "print(num1)\n",
    "\n",
    "num2 += 20\n",
    "\n",
    "print(num2)"
   ]
  },
  {
   "cell_type": "code",
   "execution_count": 12,
   "metadata": {},
   "outputs": [
    {
     "name": "stdout",
     "output_type": "stream",
     "text": [
      "False\n",
      "True\n"
     ]
    }
   ],
   "source": [
    "# 비교연산자 ==, !=\n",
    "# 출력값 : True, False\n",
    "\n",
    "print(num1 == num2)\n",
    "print(num1 != num2)"
   ]
  },
  {
   "cell_type": "code",
   "execution_count": 22,
   "metadata": {},
   "outputs": [
    {
     "name": "stdout",
     "output_type": "stream",
     "text": [
      "False\n",
      "True\n",
      "True\n"
     ]
    }
   ],
   "source": [
    "# 논리연산자 \n",
    "# and : 2개의 조건이 모두 True인 경우에만 True\n",
    "# or : : 2개의 조건이 모두 False인 경우에만 False\n",
    "# not : True -> False, False -> True\n",
    "num1 = 10\n",
    "num2 = 20\n",
    "\n",
    "print((num1 == num2) and (num2 >= 20))\n",
    "print((num1 == num2) or (num2 >= 20))\n",
    "print(not (num1 == num2))"
   ]
  },
  {
   "cell_type": "code",
   "execution_count": 24,
   "metadata": {},
   "outputs": [
    {
     "name": "stdout",
     "output_type": "stream",
     "text": [
      "홀수\n"
     ]
    }
   ],
   "source": [
    "# 삼항 연산자\n",
    "num1 = 21\n",
    "\n",
    "a = \"짝수\" if num1 % 2 == 0 else \"홀수\"\n",
    "\n",
    "print(a)"
   ]
  },
  {
   "cell_type": "code",
   "execution_count": 27,
   "metadata": {},
   "outputs": [
    {
     "name": "stdout",
     "output_type": "stream",
     "text": [
      "숫자를 입력 >> 200\n",
      "200\n"
     ]
    }
   ],
   "source": [
    "# 사용자로부터 값을 입력받을려고 한다면 ? -> input()\n",
    "# 기본적으로 문자열로 값을 입력받는다\n",
    "num = input(\"숫자를 입력 >> \")\n",
    "\n",
    "print(num)"
   ]
  },
  {
   "cell_type": "code",
   "execution_count": 28,
   "metadata": {},
   "outputs": [
    {
     "name": "stdout",
     "output_type": "stream",
     "text": [
      "숫자를 입력 >> 200\n",
      "210\n"
     ]
    }
   ],
   "source": [
    "num = int(input(\"숫자를 입력 >> \"))\n",
    "\n",
    "print(num + 10)"
   ]
  },
  {
   "cell_type": "markdown",
   "metadata": {},
   "source": [
    "조건문\n",
    "\n",
    "- if\n",
    "- if else\n",
    "- if elif else"
   ]
  },
  {
   "cell_type": "code",
   "execution_count": 31,
   "metadata": {},
   "outputs": [
    {
     "name": "stdout",
     "output_type": "stream",
     "text": [
      "짝수\n"
     ]
    }
   ],
   "source": [
    "# 조건문 if : 조건이 만족하면 내부실행문을 실행\n",
    "# 콜론(:)으로 조건문의 시작임을 표시\n",
    "# 들여쓰기로 조건문의 내부실행문을 표시\n",
    "num = 10\n",
    "\n",
    "if num%2 == 0:\n",
    "    print(\"짝수\")"
   ]
  },
  {
   "cell_type": "code",
   "execution_count": 34,
   "metadata": {},
   "outputs": [
    {
     "name": "stdout",
     "output_type": "stream",
     "text": [
      "홀수\n"
     ]
    }
   ],
   "source": [
    "# 조건문 if else : 조건이 만족하면 if 내부실행문을 실행 \n",
    "# 만족하지 않으면 else 내부실행문을 실행\n",
    "num = 11\n",
    "\n",
    "if num%2 == 0:\n",
    "    print(\"짝수\")\n",
    "else:\n",
    "    print(\"홀수\")"
   ]
  },
  {
   "cell_type": "code",
   "execution_count": 36,
   "metadata": {},
   "outputs": [
    {
     "name": "stdout",
     "output_type": "stream",
     "text": [
      "F학점\n"
     ]
    }
   ],
   "source": [
    "# 조건문 if elif else : 조건이 만족하면 if 내부실행문을 실행 \n",
    "# 만족하지 않으면 elif 조건을 검사하고\n",
    "# elif 조건이 만족하면 elif 내부실행문을 실행\n",
    "# 만족하지 않으면 else 내부실행문을 실행\n",
    "\n",
    "score = 50\n",
    "\n",
    "if score > 90:\n",
    "     print(\"A학점\")\n",
    "elif score > 80:\n",
    "     print(\"B학점\") \n",
    "elif score > 70:\n",
    "     print(\"C학점\")        \n",
    "elif score > 60:\n",
    "     print(\"D학점\")           \n",
    "else:\n",
    "     print(\"F학점\")   "
   ]
  },
  {
   "cell_type": "markdown",
   "metadata": {},
   "source": [
    "자판기 프로그램"
   ]
  },
  {
   "cell_type": "code",
   "execution_count": 38,
   "metadata": {},
   "outputs": [
    {
     "name": "stdout",
     "output_type": "stream",
     "text": [
      "-------- SM COffee --------\n",
      "금액을 입력하세요 >>2000\n",
      "커피를 고르세요\n",
      " [1]에스프레소(600원) [2]아메리카노1000원 [3]카페라떼(1300원)3\n",
      "거스름돈 : 700원\n"
     ]
    }
   ],
   "source": [
    "print(\"-------- SM COffee --------\")\n",
    "\n",
    "price = int(input(\"금액을 입력하세요 >>\"))\n",
    "coffee = int(input(\"커피를 고르세요\\n \\\n",
    "[1]에스프레소(600원) [2]아메리카노1000원 [3]카페라떼(1300원)\"))\n",
    "\n",
    "if coffee == 1:\n",
    "    print(\"거스름돈 : {}원\".format(price - 600))\n",
    "elif coffee == 2:\n",
    "    print(\"거스름돈 : {}원\".format(price - 1000))\n",
    "elif coffee == 3:\n",
    "    print(\"거스름돈 : {}원\".format(price - 1300))    "
   ]
  },
  {
   "cell_type": "code",
   "execution_count": 41,
   "metadata": {},
   "outputs": [
    {
     "name": "stdout",
     "output_type": "stream",
     "text": [
      "-------- SM COffee --------\n",
      "금액을 입력하세요 >>1000\n",
      "커피를 고르세요\n",
      " [1]에스프레소(600원) [2]아메리카노1000원 [3]카페라떼(1300원)1\n",
      "거스름돈 : 400원\n"
     ]
    }
   ],
   "source": [
    "print(\"-------- SM COffee --------\")\n",
    "\n",
    "price = int(input(\"금액을 입력하세요 >>\"))\n",
    "coffee = int(input(\"커피를 고르세요\\n \\\n",
    "[1]에스프레소(600원) [2]아메리카노1000원 [3]카페라떼(1300원)\"))\n",
    "\n",
    "if coffee == 1:\n",
    "    if price < 600 :\n",
    "        print(\"돈이 부족해요.. T^T\")\n",
    "    else :    \n",
    "        print(\"거스름돈 : {}원\".format(price - 600))\n",
    "elif coffee == 2:\n",
    "    if price < 1000 :\n",
    "        print(\"돈이 부족해요.. T^T\")\n",
    "    else :       \n",
    "        print(\"거스름돈 : {}원\".format(price - 1000))\n",
    "elif coffee == 3:\n",
    "    if price < 1300 :\n",
    "        print(\"돈이 부족해요.. T^T\")\n",
    "    else :       \n",
    "        print(\"거스름돈 : {}원\".format(price - 1300))    "
   ]
  },
  {
   "cell_type": "code",
   "execution_count": 46,
   "metadata": {},
   "outputs": [
    {
     "name": "stdout",
     "output_type": "stream",
     "text": [
      "-------- SM COffee --------\n",
      "금액을 입력하세요 >>6800\n",
      "커피를 고르세요\n",
      " [1]에스프레소(600원) [2]아메리카노1000원 [3]카페라떼(1300원)2\n",
      "거스름돈 : 5800원\n",
      "천원 : 5장\n",
      "오백원 : 1개\n",
      "백원 : 3개\n"
     ]
    }
   ],
   "source": [
    "print(\"-------- SM COffee --------\")\n",
    "\n",
    "price = int(input(\"금액을 입력하세요 >>\"))\n",
    "coffee = int(input(\"커피를 고르세요\\n \\\n",
    "[1]에스프레소(600원) [2]아메리카노1000원 [3]카페라떼(1300원)\"))\n",
    "\n",
    "if coffee == 1:\n",
    "    charge = price - 600\n",
    "elif coffee == 2:\n",
    "    charge = price - 1000\n",
    "elif coffee == 3:\n",
    "    charge = price - 1300    \n",
    "    \n",
    "if charge < 0 :\n",
    "    print(\"돈이 부족해요.. T^T\")\n",
    "else :       \n",
    "    print(\"거스름돈 : {}원\".format(charge)) \n",
    "    \n",
    "    charge1000 = charge // 1000\n",
    "    charge500 = (charge % 1000) // 500\n",
    "    charge100 = (charge % 500) // 100\n",
    "    \n",
    "    print(\"천원 : {}장\".format(charge1000))\n",
    "    print(\"오백원 : {}개\".format(charge500))\n",
    "    print(\"백원 : {}개\".format(charge100))"
   ]
  },
  {
   "cell_type": "code",
   "execution_count": 2,
   "metadata": {},
   "outputs": [
    {
     "name": "stdout",
     "output_type": "stream",
     "text": [
      "금액을 입력하세요 : 12000\n",
      "택시\n"
     ]
    }
   ],
   "source": [
    "money = int(input(\"금액을 입력하세요 : \"))\n",
    "if money >= 10000:\n",
    "            print(\"택시\")\n",
    "elif money < 10000:\n",
    "            print(\"버스\")"
   ]
  },
  {
   "cell_type": "code",
   "execution_count": 3,
   "metadata": {},
   "outputs": [
    {
     "name": "stdout",
     "output_type": "stream",
     "text": [
      "숫자를 입력하세요 : 7\n",
      "3과 5의 배수가 아닙니다.\n"
     ]
    }
   ],
   "source": [
    "num = int(input(\"숫자를 입력하세요 : \"))\n",
    "if num % 3 == 0 and num % 5 == 0:\n",
    "    print(\"3과 5의 배수입니다.\")\n",
    "else:\n",
    "    print(\"3과 5의 배수가 아닙니다.\")"
   ]
  },
  {
   "cell_type": "code",
   "execution_count": 6,
   "metadata": {},
   "outputs": [
    {
     "name": "stdout",
     "output_type": "stream",
     "text": [
      "첫 번째 정수 입력 : 11\n",
      "두 번째 정수 입력 : 12\n",
      "두 번째 정수가 더 큽니다.\n"
     ]
    }
   ],
   "source": [
    "num1 = int(input(\"첫 번째 정수 입력 : \"))\n",
    "num2 = int(input(\"두 번째 정수 입력 : \"))\n",
    "if num1 > num2:\n",
    "    print(\"첫 번째 정수가 더 큽니다.\")\n",
    "elif num1 == num2:\n",
    "    print(\"두 수가 똑같습니다.\")\n",
    "elif num1 < num2:\n",
    "    print(\"두 번째 정수가 더 큽니다.\")"
   ]
  },
  {
   "cell_type": "code",
   "execution_count": 7,
   "metadata": {},
   "outputs": [
    {
     "name": "stdout",
     "output_type": "stream",
     "text": [
      "점수를 입력하세요 : 67\n",
      "D\n"
     ]
    }
   ],
   "source": [
    "score = int(input(\"점수를 입력하세요 : \"))\n",
    "if score <= 100 and score >= 90:\n",
    "    print(\"A\")\n",
    "elif score < 90 and score >= 80:\n",
    "    print(\"B\")\n",
    "elif score < 80 and score >= 70:\n",
    "    print(\"C\")\n",
    "elif score < 70 and score >= 60:\n",
    "    print(\"D\")\n",
    "else:\n",
    "    print(\"F\")"
   ]
  },
  {
   "cell_type": "code",
   "execution_count": 18,
   "metadata": {},
   "outputs": [
    {
     "name": "stdout",
     "output_type": "stream",
     "text": [
      "-----[SM Coffee]-----\n",
      "금액을 입력하세요 >>> 1\n",
      "커피를 고르세요.\n",
      "[1]에스프레소(600원), [2]아메리카노(1000원), [3]카페라떼(1300원)1\n",
      "돈이 부족합니다.\n"
     ]
    }
   ],
   "source": [
    "print(\"-----[SM Coffee]-----\")\n",
    "price = int(input(\"금액을 입력하세요 >>> \"))\n",
    "coffee = int(input(\"커피를 고르세요.\\n[1]에스프레소(600원), [2]아메리카노(1000원), [3]카페라떼(1300원)\"))\n",
    "if coffee == 1:\n",
    "    if price >= 600:\n",
    "        print(\"거스름돈 : {}원\".format(price - 600))\n",
    "    elif price < 600:\n",
    "        print(\"돈이 부족합니다.\")\n",
    "elif coffee == 2:\n",
    "    if price >= 1000:\n",
    "        print(\"거스름돈 : {}원\".format(price - 100))\n",
    "    elif price < 1000:\n",
    "        print(\"돈이 부족합니다.\")\n",
    "elif coffee == 3:\n",
    "    if price >= 1300:\n",
    "        print(\"거스름돈 : {}원\".format(price - 1300))\n",
    "    elif price < 1300:\n",
    "        print(\"돈이 부족합니다.\")"
   ]
  },
  {
   "cell_type": "code",
   "execution_count": null,
   "metadata": {},
   "outputs": [],
   "source": []
  }
 ],
 "metadata": {
  "kernelspec": {
   "display_name": "Python 3",
   "language": "python",
   "name": "python3"
  },
  "language_info": {
   "codemirror_mode": {
    "name": "ipython",
    "version": 3
   },
   "file_extension": ".py",
   "mimetype": "text/x-python",
   "name": "python",
   "nbconvert_exporter": "python",
   "pygments_lexer": "ipython3",
   "version": "3.8.5"
  }
 },
 "nbformat": 4,
 "nbformat_minor": 4
}
