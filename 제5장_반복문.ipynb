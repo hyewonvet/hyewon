{
 "cells": [
  {
   "cell_type": "markdown",
   "metadata": {},
   "source": [
    "반복문 : 동일한 코드를 여러번 수행하고자 하는 경우에 사용\n",
    "\n",
    "- for문 : 반복횟수가 정해진 경우에 사용\n",
    "- while문 : 반복횟수가 정해지지 않는 경우에 사용"
   ]
  },
  {
   "cell_type": "code",
   "execution_count": 1,
   "metadata": {},
   "outputs": [
    {
     "name": "stdout",
     "output_type": "stream",
     "text": [
      "1\n",
      "2\n",
      "3\n",
      "4\n",
      "5\n",
      "6\n",
      "7\n",
      "8\n",
      "9\n",
      "10\n"
     ]
    }
   ],
   "source": [
    "# 1부터 10까지 출력\n",
    "print(1)\n",
    "print(2)\n",
    "print(3)\n",
    "print(4)\n",
    "print(5)\n",
    "print(6)\n",
    "print(7)\n",
    "print(8)\n",
    "print(9)\n",
    "print(10)"
   ]
  },
  {
   "cell_type": "code",
   "execution_count": 2,
   "metadata": {},
   "outputs": [
    {
     "name": "stdout",
     "output_type": "stream",
     "text": [
      "1\n",
      "2\n",
      "3\n",
      "4\n",
      "5\n",
      "6\n",
      "7\n",
      "8\n",
      "9\n",
      "10\n"
     ]
    }
   ],
   "source": [
    "for i in range(1, 11):\n",
    "    print(i)"
   ]
  },
  {
   "cell_type": "markdown",
   "metadata": {},
   "source": [
    "### while 문"
   ]
  },
  {
   "cell_type": "code",
   "execution_count": null,
   "metadata": {},
   "outputs": [],
   "source": [
    "# while 조건문 :\n",
    "#     실행문\n",
    "#     실행문"
   ]
  },
  {
   "cell_type": "code",
   "execution_count": null,
   "metadata": {},
   "outputs": [],
   "source": [
    "# 값을 1부터 1씩 증가시키다가 5보다 커지면 반복 중지\n",
    "num = 1\n",
    "\n",
    "while num <= 5:\n",
    "    print(num)\n",
    "    num = num + 1"
   ]
  },
  {
   "cell_type": "markdown",
   "metadata": {},
   "source": [
    "이름을 10번 출력하는 반복문을 작성"
   ]
  },
  {
   "cell_type": "code",
   "execution_count": 3,
   "metadata": {},
   "outputs": [
    {
     "name": "stdout",
     "output_type": "stream",
     "text": [
      "홍길동\n",
      "홍길동\n",
      "홍길동\n",
      "홍길동\n",
      "홍길동\n",
      "홍길동\n",
      "홍길동\n",
      "홍길동\n",
      "홍길동\n",
      "홍길동\n"
     ]
    }
   ],
   "source": [
    "num = 1\n",
    "\n",
    "name = \"홍길동\"\n",
    "\n",
    "while num <= 10:\n",
    "    num = num + 1\n",
    "    print(name)"
   ]
  },
  {
   "cell_type": "code",
   "execution_count": 5,
   "metadata": {},
   "outputs": [
    {
     "name": "stdout",
     "output_type": "stream",
     "text": [
      "10\n",
      "20\n",
      "30\n",
      "40\n",
      "50\n",
      "60\n",
      "70\n",
      "80\n",
      "90\n",
      "100\n"
     ]
    }
   ],
   "source": [
    "# 1부터 100까지 수 중에서 10의 배수만 출력\n",
    "# 초기값 설정\n",
    "num = 1\n",
    "# 반복문 설정 (조건)\n",
    "while num <= 100:\n",
    "    # 초기값이 10의 배수인지 판단 (if) 해서  참이면 초기값 출력\n",
    "    if num % 10 == 0:\n",
    "        print(num)\n",
    "    # 초기값을 증가 (1씩 증가 또는 10씩 증가)\n",
    "    num = num + 1"
   ]
  },
  {
   "cell_type": "code",
   "execution_count": null,
   "metadata": {},
   "outputs": [],
   "source": [
    "# while True:    \n",
    "#    실행문\n",
    "#    if 조건문:\n",
    "#        break"
   ]
  },
  {
   "cell_type": "markdown",
   "metadata": {},
   "source": [
    "break : 반복문을 중지시키는 기능"
   ]
  },
  {
   "cell_type": "code",
   "execution_count": 8,
   "metadata": {},
   "outputs": [
    {
     "name": "stdout",
     "output_type": "stream",
     "text": [
      "실행\n",
      "실행\n",
      "실행\n",
      "실행\n",
      "실행\n",
      "실행\n",
      "실행\n",
      "실행\n",
      "실행\n",
      "실행\n",
      "실행\n"
     ]
    }
   ],
   "source": [
    "num = 1\n",
    "\n",
    "# 무한 반복문\n",
    "while True:\n",
    "    print(\"실행\")\n",
    "    \n",
    "    # 무한 반복문을 중지시키는 조건문\n",
    "    if num > 10:\n",
    "        # 반복문을 중지시키는 명령\n",
    "        break\n",
    "    \n",
    "    num += 1"
   ]
  },
  {
   "cell_type": "markdown",
   "metadata": {},
   "source": [
    "1부터 100까지 숫자를 더해서 합이 1000이 넘을때의 수를 출력"
   ]
  },
  {
   "cell_type": "code",
   "execution_count": 11,
   "metadata": {},
   "outputs": [
    {
     "name": "stdout",
     "output_type": "stream",
     "text": [
      "45\n"
     ]
    }
   ],
   "source": [
    "# 증가시키는 값을 초기화\n",
    "num = 1\n",
    "# 합을 저장할 변수 초기화\n",
    "hap = 0\n",
    "\n",
    "while True:\n",
    "    # 1부터 100까의 합을 계산\n",
    "    hap = hap + num\n",
    "    \n",
    "    if hap > 1000:\n",
    "        print(num)\n",
    "        break\n",
    "        \n",
    "    num = num + 1"
   ]
  },
  {
   "cell_type": "markdown",
   "metadata": {},
   "source": [
    "2개의 수를 입력받아서 합을 구하는 반복문을 작성하세요\n",
    "(단, 두 수가 모두 0이면 반복문을 중지)"
   ]
  },
  {
   "cell_type": "code",
   "execution_count": 17,
   "metadata": {},
   "outputs": [
    {
     "name": "stdout",
     "output_type": "stream",
     "text": [
      "첫 번째 숫자 입력 >> 2\n",
      "두 번째 숫자 입력 >> 4\n",
      "2과 4의 합은 6입니다\n",
      "첫 번째 숫자 입력 >> 0\n",
      "두 번째 숫자 입력 >> 0\n",
      "반복문 중지\n"
     ]
    }
   ],
   "source": [
    "while True:\n",
    "    # 두 수를 입력받음\n",
    "    num1 = int(input(\"첫 번째 숫자 입력 >> \"))\n",
    "    num2 = int(input(\"두 번째 숫자 입력 >> \"))\n",
    "        \n",
    "    # 두 수가 모두 0이면 반복문을 중지\n",
    "    if num1 == 0 and num2 == 0:\n",
    "        print(\"반복문 중지\")\n",
    "        break;\n",
    "    else:\n",
    "        # 합을 계산해서 출력\n",
    "        print(\"{}과 {}의 합은 {}입니다\".format(num1, \n",
    "                                        num2, num1+num2))"
   ]
  },
  {
   "attachments": {},
   "cell_type": "markdown",
   "metadata": {},
   "source": [
    "-  몸무게와 목표몸무게를 입력 받고 주차 별 감량 몸무게를 입력 받으세요.\n",
    "- 몸무게를 달성하면 축하한다는 문구를 출력하고 입력을 멈추세요!"
   ]
  },
  {
   "cell_type": "code",
   "execution_count": 18,
   "metadata": {},
   "outputs": [
    {
     "name": "stdout",
     "output_type": "stream",
     "text": [
      "현재 몸무게 입력 >> 100\n",
      "목표 몸무게 입력 >> 70\n",
      "1주차 감량 몸무게4\n",
      "2주차 감량 몸무게6\n",
      "3주차 감량 몸무게10\n",
      "4주차 감량 몸무게3\n",
      "5주차 감량 몸무게5\n",
      "6주차 감량 몸무게6\n",
      "66kg 목표 달성 축하합니다 ^^\n"
     ]
    }
   ],
   "source": [
    "weight = int(input(\"현재 몸무게 입력 >> \"))\n",
    "targetWeight = int(input(\"목표 몸무게 입력 >> \"))\n",
    "week = 1\n",
    "\n",
    "while True:\n",
    "    # 감량 몸무게를 입력\n",
    "    mWeight = int(input(\"{}주차 감량 몸무게 >> \".format(week)))\n",
    "    # 주차를 증가\n",
    "    week = week + 1\n",
    "    \n",
    "    # 현재 몸무게에서 감량 몸무게를 빼서 현재 몸무게를 계산\n",
    "    weight = weight - mWeight\n",
    "    \n",
    "    # 현재 몸무게가 목표 몸무게보다 작거나 같다면\n",
    "    if weight <= targetWeight:\n",
    "        print(\"{}kg 목표 달성 축하합니다 ^^\".format(weight))\n",
    "        break"
   ]
  },
  {
   "cell_type": "markdown",
   "metadata": {},
   "source": [
    "라이브러리 사용 방법\n",
    "\n",
    "라이브러리 - 특정 기능을 미리 만들어서 모듈화한 것"
   ]
  },
  {
   "cell_type": "code",
   "execution_count": 20,
   "metadata": {},
   "outputs": [],
   "source": [
    "# 라이브러리를 가져오기\n",
    "import random\n",
    "\n",
    "# 라이브러리의 별명을 설정\n",
    "import random as rand"
   ]
  },
  {
   "cell_type": "code",
   "execution_count": 21,
   "metadata": {},
   "outputs": [
    {
     "data": {
      "text/plain": [
       "8"
      ]
     },
     "execution_count": 21,
     "metadata": {},
     "output_type": "execute_result"
    }
   ],
   "source": [
    "# 임의의 정수를 추출\n",
    "# randint(시작값, 끝값) : 시작값부터 끝값 사이의 정수를 추출\n",
    "random.randint(1, 10)"
   ]
  },
  {
   "cell_type": "code",
   "execution_count": 22,
   "metadata": {},
   "outputs": [
    {
     "data": {
      "text/plain": [
       "6"
      ]
     },
     "execution_count": 22,
     "metadata": {},
     "output_type": "execute_result"
    }
   ],
   "source": [
    "rand.randint(1, 6)"
   ]
  },
  {
   "cell_type": "code",
   "execution_count": 23,
   "metadata": {},
   "outputs": [
    {
     "data": {
      "text/plain": [
       "4"
      ]
     },
     "execution_count": 23,
     "metadata": {},
     "output_type": "execute_result"
    }
   ],
   "source": [
    "num = rand.randint(1, 6)\n",
    "\n",
    "num"
   ]
  },
  {
   "cell_type": "markdown",
   "metadata": {},
   "source": [
    "up down 게임\n",
    "\n",
    "- 1-50 사이의 임의의 수를 추출\n",
    "- 사용자로부터 하나의 수를 입력\n",
    "- 임의의 수와 사용자입력 수를 비교하여\n",
    "- 임의의 수가 크면 \"UP\"을 출력하고\n",
    "- 임의의 수가 작으면 \"DOWN\"을 출력\n",
    "- 임의의 수와 사용자 입력 수가 같으면 반복문 종료하고\n",
    "  \"정답입니다\"를 출력, 도전 회수를 출력"
   ]
  },
  {
   "cell_type": "code",
   "execution_count": 24,
   "metadata": {},
   "outputs": [
    {
     "name": "stdout",
     "output_type": "stream",
     "text": [
      "숫자를 입력 >> 30\n",
      "DOWN\n",
      "숫자를 입력 >> 12\n",
      "정답입니다. (도전횟수 : 2회)\n"
     ]
    }
   ],
   "source": [
    "# 1부터 50 중에서 정수 하나를 추출\n",
    "rNum = random.randint(1, 50)\n",
    "# 도전 회수\n",
    "count = 0\n",
    "\n",
    "while True:\n",
    "    # 도전 횟수 증가\n",
    "    count += 1\n",
    "    \n",
    "    # 사용자로부터 값을 입력\n",
    "    userNum = int(input(\"숫자를 입력 >> \"))\n",
    "    \n",
    "    # 임의의 정수와 사용자가 입력한 수를 비교\n",
    "    if rNum > userNum :\n",
    "        print(\"UP\")\n",
    "    elif rNum < userNum :\n",
    "        print(\"DOWN\")\n",
    "    elif rNum == userNum :\n",
    "        print(\"정답입니다. (도전횟수 : {}회)\".format(count))\n",
    "        break"
   ]
  },
  {
   "cell_type": "markdown",
   "metadata": {},
   "source": [
    "pass : 다음 문장을 수행하지 않고 다음 조건으로 넘어가서 반복문을 수행하거나 조건문 등에서 아무것도 수행하지 않는 경우에 사용"
   ]
  },
  {
   "cell_type": "code",
   "execution_count": 31,
   "metadata": {},
   "outputs": [],
   "source": [
    "num = 10\n",
    "\n",
    "if num >=10:    # : 을 만나면 내부에 실행문장이 와야함\n",
    "    pass"
   ]
  },
  {
   "cell_type": "code",
   "execution_count": 32,
   "metadata": {},
   "outputs": [
    {
     "name": "stdout",
     "output_type": "stream",
     "text": [
      "10\n"
     ]
    }
   ],
   "source": [
    "while True:\n",
    "    if num % 2 != 0:\n",
    "        pass\n",
    "    else:\n",
    "        print(num)\n",
    "        break"
   ]
  },
  {
   "cell_type": "markdown",
   "metadata": {},
   "source": [
    "### 반복문 for\n",
    "\n",
    "- 문자열, 리스트, 튜플 등의 값을 하나씩 읽어올 때 주로 사용\n",
    "- 반복된 값을 하나씩 가져올때 사용"
   ]
  },
  {
   "cell_type": "code",
   "execution_count": 33,
   "metadata": {},
   "outputs": [],
   "source": [
    "# for 변수명 in 문자열 / 리스트 / 튜플 :\n",
    "#     실행문"
   ]
  },
  {
   "cell_type": "code",
   "execution_count": 34,
   "metadata": {},
   "outputs": [],
   "source": [
    "list_food = [\"계란찜\", \"우유\", \"밥\", \"떡뽁이\", \"김치볶음밥\"]\n",
    "tuple_car = (\"자동차\", \"기차\", \"버스\", \"트럭\")"
   ]
  },
  {
   "cell_type": "code",
   "execution_count": 35,
   "metadata": {},
   "outputs": [
    {
     "name": "stdout",
     "output_type": "stream",
     "text": [
      "계란찜\n",
      "우유\n",
      "밥\n",
      "떡뽁이\n",
      "김치볶음밥\n"
     ]
    }
   ],
   "source": [
    "for food in list_food:\n",
    "    print(food)"
   ]
  },
  {
   "cell_type": "code",
   "execution_count": 36,
   "metadata": {},
   "outputs": [
    {
     "name": "stdout",
     "output_type": "stream",
     "text": [
      "자동차\n",
      "기차\n",
      "버스\n",
      "트럭\n"
     ]
    }
   ],
   "source": [
    "for car in tuple_car:\n",
    "    print(car)"
   ]
  },
  {
   "cell_type": "code",
   "execution_count": 37,
   "metadata": {},
   "outputs": [
    {
     "name": "stdout",
     "output_type": "stream",
     "text": [
      "안\n",
      "녕\n",
      "하\n",
      "세\n",
      "요\n"
     ]
    }
   ],
   "source": [
    "str1 = \"안녕하세요\"\n",
    "\n",
    "for s in str1:\n",
    "    print(s)"
   ]
  },
  {
   "cell_type": "code",
   "execution_count": 38,
   "metadata": {},
   "outputs": [
    {
     "name": "stdout",
     "output_type": "stream",
     "text": [
      "1번 학생은 합격입니다\n",
      "2번 학생은 합격입니다\n",
      "3번 학생은 합격입니다\n",
      "4번 학생은 합격입니다\n",
      "5번 학생은 불합격입니다\n",
      "6번 학생은 합격입니다\n",
      "7번 학생은 합격입니다\n",
      "8번 학생은 불합격입니다\n"
     ]
    }
   ],
   "source": [
    "score_list = [90, 67, 89, 77, 56, 76, 88, 54]\n",
    "\n",
    "# 정보처리기사 시험점수입니다. 60점이상이면 \"합격\" 이하이면 \n",
    "# \"불합격\"을 출력\n",
    "\n",
    "# 1번 학생은 합격입니다\n",
    "# 2번 학생은 합격입니다\n",
    "# 3번 학생은 합격입니다\n",
    "# 4번 학생은 합격입니다\n",
    "# 5번 학생은 불합격입니다.\n",
    "# .....\n",
    "\n",
    "count = 0\n",
    "\n",
    "for score in score_list :\n",
    "    count += 1\n",
    "    \n",
    "    if score >= 60 :\n",
    "        print(\"{}번 학생은 합격입니다\".format(count))\n",
    "    else :        \n",
    "        print(\"{}번 학생은 불합격입니다\".format(count))"
   ]
  },
  {
   "cell_type": "markdown",
   "metadata": {},
   "source": [
    "while 문\n",
    "- 사용자로부터 이름을 입력받음\n",
    "- 입력받은 이름을 리스트에 저장\n",
    "- 5명의 이름만 입력\n",
    "\n",
    "for 문\n",
    "- 리스트에서 회원의 이름을 가져와서 출력"
   ]
  },
  {
   "cell_type": "code",
   "execution_count": 39,
   "metadata": {},
   "outputs": [
    {
     "name": "stdout",
     "output_type": "stream",
     "text": [
      "이름을 입력 >> 1\n",
      "이름을 입력 >> 2\n",
      "이름을 입력 >> 3\n",
      "이름을 입력 >> 4\n",
      "이름을 입력 >> 5\n",
      "1\n",
      "2\n",
      "3\n",
      "4\n",
      "5\n"
     ]
    }
   ],
   "source": [
    "# 빈 리스트 생성\n",
    "nameList = []\n",
    "\n",
    "# 카운트 변수 선언\n",
    "count = 0\n",
    "\n",
    "# 이름을 5개까지 입력할 때까지 반복\n",
    "while True :\n",
    "    # 카운트 변수을 1 증가\n",
    "    count += 1\n",
    "    \n",
    "    # 이름을 입력받음\n",
    "    name = input(\"이름을 입력 >> \")\n",
    "    # 입력받은 이름을 리스트에 추가\n",
    "    nameList.append(name)\n",
    "\n",
    "    # 만약 카운트 변수가 5가 되면 반복문 종료\n",
    "    if count == 5 :\n",
    "        break\n",
    "\n",
    "# for 문으로 리스트의 값을 출력\n",
    "for name in nameList :\n",
    "    print(name)"
   ]
  },
  {
   "cell_type": "markdown",
   "metadata": {},
   "source": [
    " len() 함수를 이용해서 리스트의 개수를 카운트한 코드"
   ]
  },
  {
   "cell_type": "code",
   "execution_count": null,
   "metadata": {},
   "outputs": [],
   "source": [
    "name_list = []\n",
    "\n",
    "while True:\n",
    "    name = input(\"이름을 입력 >> \")\n",
    "    name_list.append(name)\n",
    "    \n",
    "    if len(name_list) >= 5:\n",
    "        break\n",
    "    \n",
    "for name in name_list:\n",
    "    print(\"{}번 회원의 이름은 {}입니다.\".format(name_list.index(name)+1, name))"
   ]
  },
  {
   "cell_type": "markdown",
   "metadata": {},
   "source": [
    "range(시작값, 끝값+1, 증가량) : 시작값부터 끝값까지 증가값만큼 증가시켜가면서 리스트를 생성"
   ]
  },
  {
   "cell_type": "code",
   "execution_count": 40,
   "metadata": {},
   "outputs": [
    {
     "name": "stdout",
     "output_type": "stream",
     "text": [
      "1\n",
      "2\n",
      "3\n",
      "4\n",
      "5\n",
      "6\n",
      "7\n",
      "8\n",
      "9\n"
     ]
    }
   ],
   "source": [
    "# 반복할때마다 1부터 9까지 1씩 증가시키면서 i에 값을 할당\n",
    "for i in range(1, 10, 1):\n",
    "    print(i)"
   ]
  },
  {
   "cell_type": "code",
   "execution_count": 41,
   "metadata": {},
   "outputs": [
    {
     "name": "stdout",
     "output_type": "stream",
     "text": [
      "1\n",
      "2\n",
      "3\n",
      "4\n",
      "5\n",
      "6\n"
     ]
    }
   ],
   "source": [
    "# 1-6 사이의 숫자를 생성해서 출력\n",
    "for i in range(1, 7, 1):\n",
    "    print(i)"
   ]
  },
  {
   "cell_type": "code",
   "execution_count": 42,
   "metadata": {},
   "outputs": [
    {
     "name": "stdout",
     "output_type": "stream",
     "text": [
      "0\n",
      "2\n",
      "4\n",
      "6\n",
      "8\n",
      "10\n"
     ]
    }
   ],
   "source": [
    "# 0-10 사이의 숫자 중에서 짝수만 출력\n",
    "for i in range(0, 11, 2):\n",
    "    print(i)"
   ]
  },
  {
   "cell_type": "code",
   "execution_count": 43,
   "metadata": {},
   "outputs": [
    {
     "name": "stdout",
     "output_type": "stream",
     "text": [
      "5\n",
      "4\n",
      "3\n",
      "2\n",
      "1\n"
     ]
    }
   ],
   "source": [
    "# 5, 4, 3, 2, 1 순으로 출력\n",
    "for i in range(5, 0, -1):\n",
    "    print(i)"
   ]
  },
  {
   "cell_type": "markdown",
   "metadata": {},
   "source": [
    "5 4 3 2 1 방식으로 출력하고자 한다면"
   ]
  },
  {
   "cell_type": "code",
   "execution_count": 48,
   "metadata": {},
   "outputs": [
    {
     "name": "stdout",
     "output_type": "stream",
     "text": [
      "5   4   3   2   1   "
     ]
    }
   ],
   "source": [
    "for i in range(5, 0, -1):\n",
    "    # end : print() 함수의 마지막 출력문자를 지정\n",
    "    print(i, end = \"   \")"
   ]
  },
  {
   "cell_type": "code",
   "execution_count": 49,
   "metadata": {},
   "outputs": [
    {
     "name": "stdout",
     "output_type": "stream",
     "text": [
      "5\t4\t3\t2\t1\t"
     ]
    }
   ],
   "source": [
    "for i in range(5, 0, -1):\n",
    "    # end : print() 함수의 마지막 출력문자를 지정\n",
    "    # 이스케이프 문자 : \\와 함께 사용하는 특수문자\n",
    "    print(i, end = \"\\t\")"
   ]
  },
  {
   "cell_type": "code",
   "execution_count": 50,
   "metadata": {},
   "outputs": [
    {
     "name": "stdout",
     "output_type": "stream",
     "text": [
      "5\n",
      "4\n",
      "3\n",
      "2\n",
      "1\n"
     ]
    }
   ],
   "source": [
    "for i in range(5, 0, -1):\n",
    "    print(i, end = \"\\n\")"
   ]
  },
  {
   "cell_type": "code",
   "execution_count": 59,
   "metadata": {},
   "outputs": [
    {
     "data": {
      "text/plain": [
       "[1, 2, 3, 4, 5, 6, 7, 8, 9]"
      ]
     },
     "execution_count": 59,
     "metadata": {},
     "output_type": "execute_result"
    }
   ],
   "source": [
    "list1 = []\n",
    "\n",
    "for i in range(1, 10, 1):\n",
    "    list1.append(i)\n",
    "    \n",
    "list1    "
   ]
  },
  {
   "cell_type": "code",
   "execution_count": 60,
   "metadata": {},
   "outputs": [
    {
     "data": {
      "text/plain": [
       "(1, 2, 3, 4, 5, 6, 7, 8, 9)"
      ]
     },
     "execution_count": 60,
     "metadata": {},
     "output_type": "execute_result"
    }
   ],
   "source": [
    "tuple1 = tuple(list1)\n",
    "\n",
    "tuple1"
   ]
  },
  {
   "cell_type": "code",
   "execution_count": 66,
   "metadata": {},
   "outputs": [
    {
     "name": "stdout",
     "output_type": "stream",
     "text": [
      "34 35 36 37 38 39 40 41 42 43 44 45 46 47 48 49 "
     ]
    }
   ],
   "source": [
    "# 34부터 50까지 숫자를 생성해서 가로로 출력\n",
    "for i in range(34, 50, 1):\n",
    "    print(i, end= \" \")"
   ]
  },
  {
   "cell_type": "markdown",
   "metadata": {},
   "source": [
    "가장 작은값 또는 큰값 찾기"
   ]
  },
  {
   "cell_type": "code",
   "execution_count": 67,
   "metadata": {},
   "outputs": [
    {
     "name": "stdout",
     "output_type": "stream",
     "text": [
      "최대값 :  67\n"
     ]
    }
   ],
   "source": [
    "list2 = [23, 56, 12, 67, 2, 34, 39]\n",
    "\n",
    "# 리스트에서 가장 큰 값을 출력 \n",
    "\n",
    "# 큰 값을 저장할 변수 maxValue를 선언\n",
    "maxValue = 0\n",
    "\n",
    "# for문으로 list2 값을 하나씩 읽어와서 value에 저장\n",
    "for value in list2 :\n",
    "    # value가 maxValue보다 크면 maxValue변수에 value를 저장\n",
    "    if value > maxValue :\n",
    "        maxValue = value\n",
    "        \n",
    "# maxValue을 출력하면 최대값    \n",
    "print(\"최대값 : \", maxValue)"
   ]
  },
  {
   "cell_type": "code",
   "execution_count": 70,
   "metadata": {},
   "outputs": [
    {
     "name": "stdout",
     "output_type": "stream",
     "text": [
      "최소값 :  2\n"
     ]
    }
   ],
   "source": [
    "# 리스트에서 가장 작은 값을 출력 \n",
    "\n",
    "# 가능한 범위 가장 큰 값을 사용\n",
    "minValue = 999\n",
    "\n",
    "# for문으로 list2 값을 하나씩 읽어와서 value에 저장\n",
    "for value in list2 :\n",
    "    # value가 minValue보다 작으면 minValue변수에 value를 저장\n",
    "    if value < minValue :\n",
    "        minValue = value\n",
    "        \n",
    "# minValue을 출력하면 최대값    \n",
    "print(\"최소값 : \", minValue)"
   ]
  },
  {
   "cell_type": "code",
   "execution_count": null,
   "metadata": {},
   "outputs": [],
   "source": []
  },
  {
   "cell_type": "code",
   "execution_count": null,
   "metadata": {},
   "outputs": [],
   "source": []
  },
  {
   "cell_type": "code",
   "execution_count": null,
   "metadata": {},
   "outputs": [],
   "source": []
  },
  {
   "cell_type": "code",
   "execution_count": null,
   "metadata": {},
   "outputs": [],
   "source": []
  },
  {
   "cell_type": "code",
   "execution_count": null,
   "metadata": {},
   "outputs": [],
   "source": []
  },
  {
   "cell_type": "code",
   "execution_count": null,
   "metadata": {},
   "outputs": [],
   "source": []
  }
 ],
 "metadata": {
  "kernelspec": {
   "display_name": "Python 3",
   "language": "python",
   "name": "python3"
  },
  "language_info": {
   "codemirror_mode": {
    "name": "ipython",
    "version": 3
   },
   "file_extension": ".py",
   "mimetype": "text/x-python",
   "name": "python",
   "nbconvert_exporter": "python",
   "pygments_lexer": "ipython3",
   "version": "3.8.5"
  }
 },
 "nbformat": 4,
 "nbformat_minor": 4
}
