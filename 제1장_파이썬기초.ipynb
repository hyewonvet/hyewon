{
 "cells": [
  {
   "cell_type": "code",
   "execution_count": 1,
   "metadata": {},
   "outputs": [
    {
     "data": {
      "text/plain": [
       "1"
      ]
     },
     "execution_count": 1,
     "metadata": {},
     "output_type": "execute_result"
    }
   ],
   "source": [
    "1"
   ]
  },
  {
   "cell_type": "code",
   "execution_count": 2,
   "metadata": {},
   "outputs": [
    {
     "data": {
      "text/plain": [
       "3"
      ]
     },
     "execution_count": 2,
     "metadata": {},
     "output_type": "execute_result"
    }
   ],
   "source": [
    "1+2"
   ]
  },
  {
   "cell_type": "markdown",
   "metadata": {},
   "source": [
    "#### 텍스트를 편집하는 셀입니다\n",
    "\n",
    "- ctrl + Enter : 현재 셀을 실행하고 현재 셀에 그대로 있음 \n",
    "- shift + Enter : 현재 셀을 실행하고 다음 셀로 이동\n",
    "- alt + Enter : 현재 셀을 실행하고 다음에 셀을 새로 생성"
   ]
  },
  {
   "cell_type": "markdown",
   "metadata": {},
   "source": [
    "#### Command mode의 단축키\n",
    "\n",
    "- Esc : Command mode로 전환\n",
    "- a : 위쪽에 cell 추가\n",
    "- b : 아래쪽에 cell 추가\n",
    "- m : code 창을 text 창으로 전환\n",
    "- y : text 창으로 code 창으로 전환\n",
    "- dd : 현재 셀을 삭제"
   ]
  },
  {
   "cell_type": "markdown",
   "metadata": {},
   "source": [
    "텍스트 창입니다"
   ]
  },
  {
   "cell_type": "markdown",
   "metadata": {},
   "source": [
    "### 주석\n",
    "\n",
    "- 프로그램의 실행에 영향을 주지않고 설명을 추가\n",
    "- \\# 다음에 주석을 작성"
   ]
  },
  {
   "cell_type": "code",
   "execution_count": 3,
   "metadata": {},
   "outputs": [
    {
     "data": {
      "text/plain": [
       "5"
      ]
     },
     "execution_count": 3,
     "metadata": {},
     "output_type": "execute_result"
    }
   ],
   "source": [
    "1 + 4    # +는 더하기 연산자"
   ]
  },
  {
   "cell_type": "markdown",
   "metadata": {},
   "source": [
    "### 변수\n",
    "\n",
    "- 필요할 때마다 값을 가져다 쓸 수 있도록 값을 저장해 놓는 공간\n",
    "\n",
    "변수명 = 값"
   ]
  },
  {
   "cell_type": "code",
   "execution_count": 4,
   "metadata": {},
   "outputs": [],
   "source": [
    "a = 100"
   ]
  },
  {
   "cell_type": "code",
   "execution_count": 5,
   "metadata": {},
   "outputs": [
    {
     "data": {
      "text/plain": [
       "100"
      ]
     },
     "execution_count": 5,
     "metadata": {},
     "output_type": "execute_result"
    }
   ],
   "source": [
    "a"
   ]
  },
  {
   "cell_type": "code",
   "execution_count": 6,
   "metadata": {},
   "outputs": [
    {
     "data": {
      "text/plain": [
       "120"
      ]
     },
     "execution_count": 6,
     "metadata": {},
     "output_type": "execute_result"
    }
   ],
   "source": [
    "a + 20"
   ]
  },
  {
   "cell_type": "markdown",
   "metadata": {},
   "source": [
    "변수에는 정수, 실수, 문자, 논리 등을 저장할 수 있다"
   ]
  },
  {
   "cell_type": "code",
   "execution_count": 7,
   "metadata": {},
   "outputs": [],
   "source": [
    "c = 3.40\n",
    "d = \"Python\"\n",
    "e = True"
   ]
  },
  {
   "cell_type": "code",
   "execution_count": 8,
   "metadata": {},
   "outputs": [
    {
     "data": {
      "text/plain": [
       "3.4"
      ]
     },
     "execution_count": 8,
     "metadata": {},
     "output_type": "execute_result"
    }
   ],
   "source": [
    "c"
   ]
  },
  {
   "cell_type": "code",
   "execution_count": 9,
   "metadata": {},
   "outputs": [
    {
     "data": {
      "text/plain": [
       "'Python'"
      ]
     },
     "execution_count": 9,
     "metadata": {},
     "output_type": "execute_result"
    }
   ],
   "source": [
    "d"
   ]
  },
  {
   "cell_type": "code",
   "execution_count": 10,
   "metadata": {},
   "outputs": [
    {
     "data": {
      "text/plain": [
       "True"
      ]
     },
     "execution_count": 10,
     "metadata": {},
     "output_type": "execute_result"
    }
   ],
   "source": [
    "e"
   ]
  },
  {
   "cell_type": "markdown",
   "metadata": {},
   "source": [
    "name 변수에 이름, iq 라는 변수에 아이큐를 저장해보세요"
   ]
  },
  {
   "cell_type": "code",
   "execution_count": 11,
   "metadata": {},
   "outputs": [],
   "source": [
    "name = \"홍길동\"\n",
    "iq = 230"
   ]
  },
  {
   "cell_type": "code",
   "execution_count": 12,
   "metadata": {},
   "outputs": [
    {
     "data": {
      "text/plain": [
       "'홍길동'"
      ]
     },
     "execution_count": 12,
     "metadata": {},
     "output_type": "execute_result"
    }
   ],
   "source": [
    "name"
   ]
  },
  {
   "cell_type": "code",
   "execution_count": 13,
   "metadata": {},
   "outputs": [
    {
     "data": {
      "text/plain": [
       "230"
      ]
     },
     "execution_count": 13,
     "metadata": {},
     "output_type": "execute_result"
    }
   ],
   "source": [
    "iq"
   ]
  },
  {
   "cell_type": "markdown",
   "metadata": {},
   "source": [
    "출력문 : print() 함수\n",
    "- () 안에 내용을 출력하는 기능을 함\n",
    "- () 안에는 값이나 변수를 사용할 수 있음"
   ]
  },
  {
   "cell_type": "code",
   "execution_count": 14,
   "metadata": {},
   "outputs": [
    {
     "name": "stdout",
     "output_type": "stream",
     "text": [
      "100\n"
     ]
    }
   ],
   "source": [
    "print(100)"
   ]
  },
  {
   "cell_type": "code",
   "execution_count": 15,
   "metadata": {},
   "outputs": [
    {
     "name": "stdout",
     "output_type": "stream",
     "text": [
      "홍길동\n"
     ]
    }
   ],
   "source": [
    "print(\"홍길동\")"
   ]
  },
  {
   "cell_type": "code",
   "execution_count": 16,
   "metadata": {},
   "outputs": [
    {
     "name": "stdout",
     "output_type": "stream",
     "text": [
      "100\n"
     ]
    }
   ],
   "source": [
    "print(a)"
   ]
  },
  {
   "cell_type": "code",
   "execution_count": 17,
   "metadata": {},
   "outputs": [
    {
     "name": "stdout",
     "output_type": "stream",
     "text": [
      "120\n"
     ]
    }
   ],
   "source": [
    "print(a + 20)"
   ]
  },
  {
   "cell_type": "code",
   "execution_count": 18,
   "metadata": {},
   "outputs": [
    {
     "name": "stdout",
     "output_type": "stream",
     "text": [
      "100 홍길동\n"
     ]
    }
   ],
   "source": [
    "# 여러 값을 출력한다면 컴머(,)로 구분\n",
    "print(100, \"홍길동\")"
   ]
  },
  {
   "cell_type": "code",
   "execution_count": 19,
   "metadata": {},
   "outputs": [
    {
     "name": "stdout",
     "output_type": "stream",
     "text": [
      "100 홍길동\n"
     ]
    }
   ],
   "source": [
    "print(a, \"홍길동\")"
   ]
  },
  {
   "cell_type": "code",
   "execution_count": 20,
   "metadata": {},
   "outputs": [
    {
     "name": "stdout",
     "output_type": "stream",
     "text": [
      "100 3.4\n"
     ]
    }
   ],
   "source": [
    "print(a, c)"
   ]
  },
  {
   "cell_type": "markdown",
   "metadata": {},
   "source": [
    "name에 \"홍길동\"을 저장하고 age에 20 저장한 후에 \"홍길동 : 20\"과 같이 출력"
   ]
  },
  {
   "cell_type": "code",
   "execution_count": 21,
   "metadata": {},
   "outputs": [
    {
     "data": {
      "text/plain": [
       "3.4"
      ]
     },
     "execution_count": 21,
     "metadata": {},
     "output_type": "execute_result"
    }
   ],
   "source": [
    "a\n",
    "c"
   ]
  },
  {
   "cell_type": "code",
   "execution_count": 22,
   "metadata": {},
   "outputs": [
    {
     "name": "stdout",
     "output_type": "stream",
     "text": [
      "100\n",
      "3.4\n"
     ]
    }
   ],
   "source": [
    "print(a)\n",
    "print(c)"
   ]
  },
  {
   "cell_type": "code",
   "execution_count": 23,
   "metadata": {},
   "outputs": [
    {
     "data": {
      "text/plain": [
       "(100, 3.4)"
      ]
     },
     "execution_count": 23,
     "metadata": {},
     "output_type": "execute_result"
    }
   ],
   "source": [
    "a, c"
   ]
  },
  {
   "cell_type": "code",
   "execution_count": 24,
   "metadata": {},
   "outputs": [
    {
     "data": {
      "text/plain": [
       "(3.1425, 1.25, 3.0)"
      ]
     },
     "execution_count": 24,
     "metadata": {},
     "output_type": "execute_result"
    }
   ],
   "source": [
    "num3 = 3.1425\n",
    "num4 = 1.25\n",
    "num5 = 3.0\n",
    "\n",
    "num3, num4, num5"
   ]
  },
  {
   "cell_type": "markdown",
   "metadata": {},
   "source": [
    "문자 \"Hello World\"를 쌍따옴표를 써서 str1변수에 외따옴표를 써서 str2에 저장하고 출력"
   ]
  },
  {
   "cell_type": "code",
   "execution_count": 25,
   "metadata": {},
   "outputs": [
    {
     "name": "stdout",
     "output_type": "stream",
     "text": [
      "Hello World     Hello World\n"
     ]
    }
   ],
   "source": [
    "str1 = \"Hello World\"\n",
    "str2 = 'Hello World'\n",
    "\n",
    "print(str1, \"   \", str2)"
   ]
  },
  {
   "cell_type": "markdown",
   "metadata": {},
   "source": [
    "#### 변수명 작성 규칙\n",
    "\n",
    "- (1) 변수명은 영문자, 숫자, _ 만을 사용할 수 있다.  \n",
    "- (2) 영문자는 대소문자를 구별한다\n",
    "- (3) 첫 번째 문자로 숫자가 올 수 없다.\n",
    "- (4) 특수문자 (#, $, / 등)는 쓸 수 없다.\n",
    "- (5) 명령어를 변수명으로 사용할 수 없다"
   ]
  },
  {
   "cell_type": "markdown",
   "metadata": {},
   "source": [
    "#### 변수명 작성 시 권장사항\n",
    "\n",
    "- (6) 변수명은 가능한한 의미를 알 수 있도록 작성한다\n",
    "- (7) 두 개 단어 이상으로 구성된 변수명은 _나 두번째 단어의 첫단어를 대문자를 사용하여 구분\n",
    "- (8) 한 단어로 구성된 변수명은 가능한한 소문자를 사용한다"
   ]
  },
  {
   "cell_type": "code",
   "execution_count": 26,
   "metadata": {},
   "outputs": [
    {
     "data": {
      "text/plain": [
       "(10, 20, 30)"
      ]
     },
     "execution_count": 26,
     "metadata": {},
     "output_type": "execute_result"
    }
   ],
   "source": [
    "# (1) 변수명은 영문자, 숫자, _ 만을 사용할 수 있다.\n",
    "a = 10\n",
    "a1 = 20\n",
    "a_ = 30\n",
    "\n",
    "a, a1, a_"
   ]
  },
  {
   "cell_type": "code",
   "execution_count": 27,
   "metadata": {},
   "outputs": [
    {
     "ename": "SyntaxError",
     "evalue": "invalid syntax (<ipython-input-27-66d0cffb9b84>, line 2)",
     "output_type": "error",
     "traceback": [
      "\u001b[1;36m  File \u001b[1;32m\"<ipython-input-27-66d0cffb9b84>\"\u001b[1;36m, line \u001b[1;32m2\u001b[0m\n\u001b[1;33m    $a = 10\u001b[0m\n\u001b[1;37m    ^\u001b[0m\n\u001b[1;31mSyntaxError\u001b[0m\u001b[1;31m:\u001b[0m invalid syntax\n"
     ]
    }
   ],
   "source": [
    "# (4) 특수문자 (#, $, / 등)는 쓸 수 없다.\n",
    "$a = 10"
   ]
  },
  {
   "cell_type": "code",
   "execution_count": null,
   "metadata": {},
   "outputs": [],
   "source": [
    "# (2) 영문자는 대소문자를 구별한다\n",
    "num = 100\n",
    "\n",
    "Num"
   ]
  },
  {
   "cell_type": "code",
   "execution_count": null,
   "metadata": {},
   "outputs": [],
   "source": [
    "# (3) 첫 번째 문자로 숫자가 올 수 없다.\n",
    "1a = 20"
   ]
  },
  {
   "cell_type": "code",
   "execution_count": null,
   "metadata": {},
   "outputs": [],
   "source": [
    "# (5) 명령어를 변수명으로 사용할 수 없다\n",
    "#print = 20\n",
    "#print"
   ]
  },
  {
   "cell_type": "code",
   "execution_count": 28,
   "metadata": {},
   "outputs": [
    {
     "name": "stdout",
     "output_type": "stream",
     "text": [
      "100\n"
     ]
    }
   ],
   "source": [
    "print(100)"
   ]
  },
  {
   "cell_type": "code",
   "execution_count": 29,
   "metadata": {},
   "outputs": [
    {
     "data": {
      "text/plain": [
       "30"
      ]
     },
     "execution_count": 29,
     "metadata": {},
     "output_type": "execute_result"
    }
   ],
   "source": [
    "# (6) 변수명은 가능한한 의미를 알 수 있도록 작성한다\n",
    "a = 30\n",
    "a"
   ]
  },
  {
   "cell_type": "code",
   "execution_count": 30,
   "metadata": {},
   "outputs": [
    {
     "data": {
      "text/plain": [
       "30"
      ]
     },
     "execution_count": 30,
     "metadata": {},
     "output_type": "execute_result"
    }
   ],
   "source": [
    "age = 30\n",
    "age"
   ]
  },
  {
   "cell_type": "code",
   "execution_count": 31,
   "metadata": {},
   "outputs": [
    {
     "data": {
      "text/plain": [
       "5"
      ]
     },
     "execution_count": 31,
     "metadata": {},
     "output_type": "execute_result"
    }
   ],
   "source": [
    "# (7) 두 개 단어 이상으로 구성된 변수명은 _나 두번째 단어의 첫단어를 대문자를 사용하여 구분\n",
    "chapternumber = 5\n",
    "\n",
    "chapternumber"
   ]
  },
  {
   "cell_type": "code",
   "execution_count": 32,
   "metadata": {},
   "outputs": [],
   "source": [
    "chapter_number = 5\n",
    "chapterNumber = 5"
   ]
  },
  {
   "cell_type": "code",
   "execution_count": 33,
   "metadata": {},
   "outputs": [],
   "source": [
    "# (8) 한 단어로 구성된 변수명은 가능한한 소문자를 사용한다\n",
    "Num = 10"
   ]
  },
  {
   "cell_type": "code",
   "execution_count": 34,
   "metadata": {},
   "outputs": [],
   "source": [
    "num = 10"
   ]
  },
  {
   "cell_type": "markdown",
   "metadata": {},
   "source": [
    "[문제] 다음중에서 변수명이 잘못된 것을 고르고 이유를 설명하시오.\n",
    "\n",
    "P-20, number 5, 30day, if, $a, Party"
   ]
  },
  {
   "cell_type": "markdown",
   "metadata": {},
   "source": [
    "파이썬의 독특한 값 대입 방법"
   ]
  },
  {
   "cell_type": "code",
   "execution_count": 35,
   "metadata": {},
   "outputs": [
    {
     "data": {
      "text/plain": [
       "(10, 30)"
      ]
     },
     "execution_count": 35,
     "metadata": {},
     "output_type": "execute_result"
    }
   ],
   "source": [
    "a = 10\n",
    "b = 30\n",
    "a, b"
   ]
  },
  {
   "cell_type": "code",
   "execution_count": 37,
   "metadata": {},
   "outputs": [
    {
     "data": {
      "text/plain": [
       "(20, 49)"
      ]
     },
     "execution_count": 37,
     "metadata": {},
     "output_type": "execute_result"
    }
   ],
   "source": [
    "c, d = 20, 49\n",
    "\n",
    "c, d"
   ]
  },
  {
   "cell_type": "markdown",
   "metadata": {},
   "source": [
    "str1에 \"홍길동\", str2에 \"의적\"을 = 을 하나만써서 저장"
   ]
  },
  {
   "cell_type": "code",
   "execution_count": 38,
   "metadata": {},
   "outputs": [
    {
     "data": {
      "text/plain": [
       "('홍길동', '의적')"
      ]
     },
     "execution_count": 38,
     "metadata": {},
     "output_type": "execute_result"
    }
   ],
   "source": [
    "str1, str2 = \"홍길동\", \"의적\"\n",
    "\n",
    "str1, str2"
   ]
  },
  {
   "cell_type": "code",
   "execution_count": 39,
   "metadata": {},
   "outputs": [],
   "source": [
    "# a1, a2, a3에 100을 저장\n",
    "\n",
    "a1 = 100\n",
    "a2 = 100\n",
    "a3 = 100"
   ]
  },
  {
   "cell_type": "code",
   "execution_count": 40,
   "metadata": {},
   "outputs": [
    {
     "data": {
      "text/plain": [
       "(200, 200, 200)"
      ]
     },
     "execution_count": 40,
     "metadata": {},
     "output_type": "execute_result"
    }
   ],
   "source": [
    "a1 = a2 = a3 = 200\n",
    "\n",
    "a1, a2, a3"
   ]
  },
  {
   "cell_type": "markdown",
   "metadata": {},
   "source": [
    "- 변수 x에 10을 저장, 변수 y에 20을 저장\n",
    "- 변수 sum에 x와 y의 합을 저장\n",
    "- print() 함수로 sum을 출력\n",
    "\n",
    "sum = 30"
   ]
  },
  {
   "cell_type": "code",
   "execution_count": 42,
   "metadata": {},
   "outputs": [
    {
     "name": "stdout",
     "output_type": "stream",
     "text": [
      "sum =  30\n"
     ]
    }
   ],
   "source": [
    "x , y = 10, 20\n",
    "\n",
    "sum = x + y\n",
    "\n",
    "print(\"sum = \", sum)"
   ]
  },
  {
   "cell_type": "markdown",
   "metadata": {},
   "source": [
    "she's gone 를 출력"
   ]
  },
  {
   "cell_type": "code",
   "execution_count": 43,
   "metadata": {},
   "outputs": [
    {
     "ename": "SyntaxError",
     "evalue": "invalid syntax (<ipython-input-43-44138cd4081f>, line 1)",
     "output_type": "error",
     "traceback": [
      "\u001b[1;36m  File \u001b[1;32m\"<ipython-input-43-44138cd4081f>\"\u001b[1;36m, line \u001b[1;32m1\u001b[0m\n\u001b[1;33m    str = 'she's gone'\u001b[0m\n\u001b[1;37m               ^\u001b[0m\n\u001b[1;31mSyntaxError\u001b[0m\u001b[1;31m:\u001b[0m invalid syntax\n"
     ]
    }
   ],
   "source": [
    "str = 'she's gone'"
   ]
  },
  {
   "cell_type": "code",
   "execution_count": 46,
   "metadata": {},
   "outputs": [
    {
     "data": {
      "text/plain": [
       "\"she's gone\""
      ]
     },
     "execution_count": 46,
     "metadata": {},
     "output_type": "execute_result"
    }
   ],
   "source": [
    "# 문자 내부에 외따옴표나 쌍다옴표가 있는 경우\n",
    "# - 문자열을 같은 따옴표로 묶어주면 안됨\n",
    "\n",
    "str = \"she's gone\"\n",
    "\n",
    "str"
   ]
  },
  {
   "cell_type": "code",
   "execution_count": 47,
   "metadata": {},
   "outputs": [
    {
     "ename": "SyntaxError",
     "evalue": "invalid syntax (<ipython-input-47-0151927708dd>, line 1)",
     "output_type": "error",
     "traceback": [
      "\u001b[1;36m  File \u001b[1;32m\"<ipython-input-47-0151927708dd>\"\u001b[1;36m, line \u001b[1;32m1\u001b[0m\n\u001b[1;33m    str1 = \"he said \"Haha\"\"\u001b[0m\n\u001b[1;37m                     ^\u001b[0m\n\u001b[1;31mSyntaxError\u001b[0m\u001b[1;31m:\u001b[0m invalid syntax\n"
     ]
    }
   ],
   "source": [
    "str1 = \"he said \"Haha\"\""
   ]
  },
  {
   "cell_type": "code",
   "execution_count": 49,
   "metadata": {},
   "outputs": [
    {
     "data": {
      "text/plain": [
       "'he said \"Haha\"'"
      ]
     },
     "execution_count": 49,
     "metadata": {},
     "output_type": "execute_result"
    }
   ],
   "source": [
    "str1 = 'he said \"Haha\"'\n",
    "str1"
   ]
  },
  {
   "cell_type": "code",
   "execution_count": 50,
   "metadata": {},
   "outputs": [
    {
     "ename": "SyntaxError",
     "evalue": "invalid syntax (<ipython-input-50-11f256fd75e6>, line 1)",
     "output_type": "error",
     "traceback": [
      "\u001b[1;36m  File \u001b[1;32m\"<ipython-input-50-11f256fd75e6>\"\u001b[1;36m, line \u001b[1;32m1\u001b[0m\n\u001b[1;33m    str1 = 'She's said \"Hoho\"'\u001b[0m\n\u001b[1;37m                ^\u001b[0m\n\u001b[1;31mSyntaxError\u001b[0m\u001b[1;31m:\u001b[0m invalid syntax\n"
     ]
    }
   ],
   "source": [
    "str1 = 'She's said \"Hoho\"'"
   ]
  },
  {
   "cell_type": "code",
   "execution_count": 51,
   "metadata": {},
   "outputs": [
    {
     "ename": "SyntaxError",
     "evalue": "invalid syntax (<ipython-input-51-ab25eb0a09fa>, line 1)",
     "output_type": "error",
     "traceback": [
      "\u001b[1;36m  File \u001b[1;32m\"<ipython-input-51-ab25eb0a09fa>\"\u001b[1;36m, line \u001b[1;32m1\u001b[0m\n\u001b[1;33m    str2 = \"She's said \"Hoho\"\"\u001b[0m\n\u001b[1;37m                        ^\u001b[0m\n\u001b[1;31mSyntaxError\u001b[0m\u001b[1;31m:\u001b[0m invalid syntax\n"
     ]
    }
   ],
   "source": [
    "str2 = \"She's said \"Hoho\"\""
   ]
  },
  {
   "cell_type": "code",
   "execution_count": 64,
   "metadata": {},
   "outputs": [
    {
     "name": "stdout",
     "output_type": "stream",
     "text": [
      "She's said \"Hoho\"\n"
     ]
    }
   ],
   "source": [
    "# 특수문자를 문자열 안에 포함시키고자하는 경우에는 \\와 같이 사용\n",
    "str4 = \"She\\'s said \\\"Hoho\\\"\"\n",
    "\n",
    "print(str4)"
   ]
  },
  {
   "cell_type": "markdown",
   "metadata": {},
   "source": [
    "변수에 여러 줄의 문자를 넣을 경우"
   ]
  },
  {
   "cell_type": "code",
   "execution_count": 65,
   "metadata": {},
   "outputs": [
    {
     "ename": "SyntaxError",
     "evalue": "EOL while scanning string literal (<ipython-input-65-2ae9488d3461>, line 1)",
     "output_type": "error",
     "traceback": [
      "\u001b[1;36m  File \u001b[1;32m\"<ipython-input-65-2ae9488d3461>\"\u001b[1;36m, line \u001b[1;32m1\u001b[0m\n\u001b[1;33m    str5 = \"안녕하세요\u001b[0m\n\u001b[1;37m                 ^\u001b[0m\n\u001b[1;31mSyntaxError\u001b[0m\u001b[1;31m:\u001b[0m EOL while scanning string literal\n"
     ]
    }
   ],
   "source": [
    "str5 = \"안녕하세요\n",
    "      반갑습니다\"    "
   ]
  },
  {
   "cell_type": "code",
   "execution_count": 67,
   "metadata": {},
   "outputs": [
    {
     "name": "stdout",
     "output_type": "stream",
     "text": [
      "안녕하세요\n",
      "반갑습니다\n"
     ]
    }
   ],
   "source": [
    "# \\n : 줄 넘김 문자\n",
    "str6 = \"안녕하세요\\n반갑습니다\"  \n",
    "\n",
    "print(str6)"
   ]
  },
  {
   "cell_type": "code",
   "execution_count": 69,
   "metadata": {},
   "outputs": [
    {
     "name": "stdout",
     "output_type": "stream",
     "text": [
      "이름 :  홍길동 \n",
      "나이 :  30 \n",
      "직업 :  의적\n"
     ]
    }
   ],
   "source": [
    "name = \"홍길동\"\n",
    "age = 30\n",
    "job = \"의적\"\n",
    "\n",
    "# print() 한 개를 사용해서 아래처럼 출력되도록 하보세요\n",
    "# 이름 : 홍길동\n",
    "# 나이 : 30\n",
    "# 직업 : 의적\n",
    "\n",
    "print(\"이름 : \", name, \"\\n나이 : \", age, \"\\n직업 : \", job)"
   ]
  },
  {
   "cell_type": "code",
   "execution_count": 72,
   "metadata": {},
   "outputs": [
    {
     "name": "stdout",
     "output_type": "stream",
     "text": [
      "홍길동\t 20\n",
      "홍길\t 20\n",
      "홍\t 20\n"
     ]
    }
   ],
   "source": [
    "# \\t : 탭 간격만큼 띄우는 기능\n",
    "print(\"홍길동\\t\", \"20\")\n",
    "print(\"홍길\\t\", \"20\")\n",
    "print(\"홍\\t\", \"20\")"
   ]
  },
  {
   "cell_type": "code",
   "execution_count": 73,
   "metadata": {},
   "outputs": [],
   "source": [
    "# 아래와 같이 출력되도록 출력문을 만들어 보세요\n",
    "# 이름     나이    직업\n",
    "# =====================\n",
    "# 홍길동   30      의적"
   ]
  },
  {
   "cell_type": "code",
   "execution_count": 79,
   "metadata": {},
   "outputs": [
    {
     "name": "stdout",
     "output_type": "stream",
     "text": [
      "이름\t나이\t직업\n",
      "이름 \t 나이 \t 직업\n",
      "=====================\n",
      "홍길동 \t 30 \t 의적\n"
     ]
    }
   ],
   "source": [
    "print(\"이름\\t나이\\t직업\")\n",
    "print(\"이름\", \"\\t\", \"나이\", \"\\t\", \"직업\")\n",
    "print(\"=====================\")\n",
    "print(name, \"\\t\", age, \"\\t\", job)"
   ]
  },
  {
   "cell_type": "markdown",
   "metadata": {},
   "source": [
    "변수에 여러 줄의 문자열을 저장하는 방법2\n",
    "\n",
    "- '''내용''' 또는 \"\"\"내용\"\"\" "
   ]
  },
  {
   "cell_type": "code",
   "execution_count": 82,
   "metadata": {},
   "outputs": [
    {
     "name": "stdout",
     "output_type": "stream",
     "text": [
      "안녕하세요\n",
      "파이썬 수업중입니다\n"
     ]
    }
   ],
   "source": [
    "str5 = '''안녕하세요\n",
    "파이썬 수업중입니다'''\n",
    "\n",
    "print(str5)"
   ]
  },
  {
   "cell_type": "code",
   "execution_count": 83,
   "metadata": {},
   "outputs": [
    {
     "name": "stdout",
     "output_type": "stream",
     "text": [
      "안녕하세요\n",
      "파이썬 수업중입니다\n"
     ]
    }
   ],
   "source": [
    "str6 = \"\"\"안녕하세요\n",
    "파이썬 수업중입니다\"\"\"\n",
    "\n",
    "print(str6)"
   ]
  },
  {
   "cell_type": "markdown",
   "metadata": {},
   "source": [
    "### indexing과 slicing\n",
    "\n",
    "- indexing : 해당 인덱스 (번호, 메모리주소)의 값을 가져오는 것\n",
    "- slicing : 해당 시작 인덱스와 끝 인덱스 사이의 값을 가져오는 것"
   ]
  },
  {
   "cell_type": "code",
   "execution_count": 85,
   "metadata": {},
   "outputs": [],
   "source": [
    "#      01234567890123456789012345   (왼쪽 인덱스)\n",
    "str = \"Python is easy and simple.\"\n",
    "#      65432109876543210987654321   (오른쪽 인덱스) "
   ]
  },
  {
   "cell_type": "code",
   "execution_count": 87,
   "metadata": {},
   "outputs": [
    {
     "name": "stdout",
     "output_type": "stream",
     "text": [
      "y\n",
      "y\n"
     ]
    }
   ],
   "source": [
    "# 인덱스값은 대괄호를 사용하여 설정\n",
    "print(str[13])\n",
    "print(str[-13])"
   ]
  },
  {
   "cell_type": "code",
   "execution_count": 88,
   "metadata": {},
   "outputs": [
    {
     "name": "stdout",
     "output_type": "stream",
     "text": [
      "a\n",
      "n\n"
     ]
    }
   ],
   "source": [
    "print(str[11])\n",
    "print(str[-21])"
   ]
  },
  {
   "cell_type": "markdown",
   "metadata": {},
   "source": [
    "slicing \n",
    "\n",
    "\\[시작인덱스 : 끝인덱스 + 1 \\]"
   ]
  },
  {
   "cell_type": "code",
   "execution_count": 89,
   "metadata": {},
   "outputs": [],
   "source": [
    "#      01234567890123456789012345   (왼쪽 인덱스)\n",
    "str = \"Python is easy and simple.\"\n",
    "#      65432109876543210987654321   (오른쪽 인덱스) "
   ]
  },
  {
   "cell_type": "code",
   "execution_count": 90,
   "metadata": {},
   "outputs": [
    {
     "name": "stdout",
     "output_type": "stream",
     "text": [
      "is\n"
     ]
    }
   ],
   "source": [
    "print(str[7:9])"
   ]
  },
  {
   "cell_type": "code",
   "execution_count": 91,
   "metadata": {},
   "outputs": [
    {
     "name": "stdout",
     "output_type": "stream",
     "text": [
      "is\n"
     ]
    }
   ],
   "source": [
    "print(str[7:-17])"
   ]
  },
  {
   "cell_type": "code",
   "execution_count": 92,
   "metadata": {},
   "outputs": [
    {
     "name": "stdout",
     "output_type": "stream",
     "text": [
      "and\n",
      "and\n"
     ]
    }
   ],
   "source": [
    "# and\n",
    "print(str[15:18])\n",
    "print(str[-11:-8])"
   ]
  },
  {
   "cell_type": "markdown",
   "metadata": {},
   "source": [
    "생략된 slicing"
   ]
  },
  {
   "cell_type": "code",
   "execution_count": 95,
   "metadata": {},
   "outputs": [
    {
     "name": "stdout",
     "output_type": "stream",
     "text": [
      "Python\n",
      "Python\n"
     ]
    }
   ],
   "source": [
    "#(1) 시작 인덱스를 생략하면 0인덱스부터 시작\n",
    "print(str[0:6])\n",
    "print(str[:6])"
   ]
  },
  {
   "cell_type": "code",
   "execution_count": 100,
   "metadata": {},
   "outputs": [
    {
     "name": "stdout",
     "output_type": "stream",
     "text": [
      "simple.\n",
      "simple.\n",
      "\n",
      "simple.\n"
     ]
    }
   ],
   "source": [
    "#(2) 끝 인덱스를 생략하면 끝 인덱스까지 가져옴\n",
    "\n",
    "# simple. 을 출력\n",
    "print(str[19:26])\n",
    "print(str[19:])\n",
    "print(str[-7:0])\n",
    "print(str[-7:])"
   ]
  },
  {
   "cell_type": "code",
   "execution_count": 101,
   "metadata": {},
   "outputs": [
    {
     "name": "stdout",
     "output_type": "stream",
     "text": [
      "Python is easy and simple.\n"
     ]
    }
   ],
   "source": [
    "#(3) 시작 인덱스와 끝 인덱스를 생략하면 전체 값을 가져옴\n",
    "print(str[:])"
   ]
  },
  {
   "cell_type": "markdown",
   "metadata": {},
   "source": [
    "[문제] 다음과 같은 문자가 저장되어 있을때\n",
    "\n",
    "     str_info = \"20200706Sunny\"\n",
    "     \n",
    "아래와 같이 출력하도록 해보세요\n",
    "\n",
    "년도 : 2020년 <br>\n",
    "월일 : 07월 06일 <br>\n",
    "날씨 : Sunny <br>"
   ]
  },
  {
   "cell_type": "code",
   "execution_count": 103,
   "metadata": {},
   "outputs": [
    {
     "name": "stdout",
     "output_type": "stream",
     "text": [
      "년도 : 2020 년\n",
      "월일 : 07 월 06 일\n",
      "날씨 : Sunny\n"
     ]
    }
   ],
   "source": [
    "str_info = \"20200706Sunny\"\n",
    "print(\"년도 :\",str_info[:4],\"년\"\n",
    "     \"\\n월일 :\",str_info[4:6],\"월\",str_info[6:8],\"일\"\n",
    "     \"\\n날씨 :\",str_info[-5:])"
   ]
  },
  {
   "cell_type": "markdown",
   "metadata": {},
   "source": [
    "### 문자열 포맷팅 (Formatting)\n",
    "\n",
    "- 출력 형식을 지정해서 값을 출력하는 것"
   ]
  },
  {
   "cell_type": "code",
   "execution_count": 104,
   "metadata": {},
   "outputs": [],
   "source": [
    "s = \"오늘은 12월 30일입니다\""
   ]
  },
  {
   "cell_type": "code",
   "execution_count": 107,
   "metadata": {},
   "outputs": [
    {
     "data": {
      "text/plain": [
       "'오늘은 12월 31일입니다'"
      ]
     },
     "execution_count": 107,
     "metadata": {},
     "output_type": "execute_result"
    }
   ],
   "source": [
    "# 방법 1\n",
    "# 오늘은 12월 31일입니다 라고 출력하려면\n",
    "\n",
    "day = 31\n",
    "\n",
    "# %d : 정수형 (decimal)\n",
    "# %f : 실수형 (float)\n",
    "# %c : 문자 1개 (charactor)\n",
    "# %s : 문자열 (string)\n",
    "s = \"오늘은 12월 %d일입니다\"%day\n",
    "s"
   ]
  },
  {
   "cell_type": "code",
   "execution_count": 110,
   "metadata": {},
   "outputs": [
    {
     "data": {
      "text/plain": [
       "'오늘은 1월 1일입니다'"
      ]
     },
     "execution_count": 110,
     "metadata": {},
     "output_type": "execute_result"
    }
   ],
   "source": [
    "# 오늘은 1월 1일입니다\n",
    "\n",
    "month = 1\n",
    "day = 1\n",
    "\n",
    "s = \"오늘은 %d월 %d일입니다\"%(month, day)\n",
    "s"
   ]
  },
  {
   "cell_type": "markdown",
   "metadata": {},
   "source": [
    "[ 문제 ]\n",
    "\n",
    "s = \"12월 30일 날씨는 눈이고 온도는 10.5도입니다\"\n",
    "\n",
    "month = 1<br>\n",
    "day = 1<br>\n",
    "weather = \"맑음\"<br>\n",
    "temp = 12.3<br>\n",
    "\n",
    "1월 1일 날씨는 맑음이고 온도는 12.3도입니다"
   ]
  },
  {
   "cell_type": "code",
   "execution_count": 111,
   "metadata": {},
   "outputs": [
    {
     "name": "stdout",
     "output_type": "stream",
     "text": [
      "1월 1일 날씨는 맑음이고 온도는 12.3도입니다\n"
     ]
    }
   ],
   "source": [
    "month = 1\n",
    "day = 1\n",
    "weather = \"맑음\"\n",
    "temp = 12.3\n",
    "\n",
    "# %.1f : 소수점 1째자리까지만 출력\n",
    "s = \"%d월 %d일 날씨는 %s이고 온도는 %.1f도입니다\"%(month,day,weather,temp)\n",
    "\n",
    "print(s)"
   ]
  },
  {
   "cell_type": "code",
   "execution_count": 115,
   "metadata": {},
   "outputs": [
    {
     "name": "stdout",
     "output_type": "stream",
     "text": [
      "1월 1일 날씨는 맑음이고 온도는 12.3도입니다\n"
     ]
    }
   ],
   "source": [
    "# format() 를 이용해서 출력형식을 지정\n",
    "# 타입을 지정하지 않아도 됨\n",
    "# 값을 출력할 위치에 {}를 표시\n",
    "# format()함수에 순서대로 값을 지정\n",
    "s = \"{}월 {}일 날씨는 {}이고 온도는 {}도입니다\"\\\n",
    "       .format(month, day, weather, temp)\n",
    "\n",
    "print(s)"
   ]
  },
  {
   "cell_type": "code",
   "execution_count": 1,
   "metadata": {},
   "outputs": [
    {
     "name": "stdout",
     "output_type": "stream",
     "text": [
      "1000원\n"
     ]
    }
   ],
   "source": [
    "str = \"10000원\"\n",
    "\n",
    "print(\"{}원\".format(1000))"
   ]
  },
  {
   "cell_type": "markdown",
   "metadata": {},
   "source": [
    "### 문자열 함수"
   ]
  },
  {
   "cell_type": "code",
   "execution_count": 8,
   "metadata": {},
   "outputs": [],
   "source": [
    "str1 = \"Python is easy and simple\"\n",
    "str2 = \"Python은 쉽고 python은 단순한 언어입니다\""
   ]
  },
  {
   "cell_type": "markdown",
   "metadata": {},
   "source": [
    "len() : 문자열의 길이 (문자열속에 포함된 문자의 수) 반환"
   ]
  },
  {
   "cell_type": "code",
   "execution_count": 7,
   "metadata": {},
   "outputs": [
    {
     "name": "stdout",
     "output_type": "stream",
     "text": [
      "str의 길이 :  25\n"
     ]
    }
   ],
   "source": [
    "print(\"str1의 길이 : \", len(str1))"
   ]
  },
  {
   "cell_type": "markdown",
   "metadata": {},
   "source": [
    "count(\"문자\") : 문자열에 포함된 해당 문자의 수를 계수"
   ]
  },
  {
   "cell_type": "code",
   "execution_count": 9,
   "metadata": {},
   "outputs": [
    {
     "name": "stdout",
     "output_type": "stream",
     "text": [
      "str1에 포함된 i의 개수 :  2\n"
     ]
    }
   ],
   "source": [
    "print(\"str1에 포함된 i의 개수 : \", str1.count(\"i\"))"
   ]
  },
  {
   "cell_type": "markdown",
   "metadata": {},
   "source": [
    "- index(\"문자\") : 문자열에서 해당 문자의 위치를 반환\n",
    "- find(\"문자\") : 문자열에서 해당 문자의 위치를 반환"
   ]
  },
  {
   "cell_type": "code",
   "execution_count": 11,
   "metadata": {},
   "outputs": [
    {
     "name": "stdout",
     "output_type": "stream",
     "text": [
      "str1에서 e의 위치 :  10\n",
      "str1에서 e의 위치 :  10\n"
     ]
    }
   ],
   "source": [
    "print(\"str1에서 e의 위치 : \", str1.index(\"e\"))\n",
    "print(\"str1에서 e의 위치 : \", str1.find(\"e\"))"
   ]
  },
  {
   "cell_type": "code",
   "execution_count": 12,
   "metadata": {},
   "outputs": [
    {
     "ename": "ValueError",
     "evalue": "substring not found",
     "output_type": "error",
     "traceback": [
      "\u001b[1;31m---------------------------------------------------------------------------\u001b[0m",
      "\u001b[1;31mValueError\u001b[0m                                Traceback (most recent call last)",
      "\u001b[1;32m<ipython-input-12-10edaa546c0a>\u001b[0m in \u001b[0;36m<module>\u001b[1;34m\u001b[0m\n\u001b[1;32m----> 1\u001b[1;33m \u001b[0mprint\u001b[0m\u001b[1;33m(\u001b[0m\u001b[1;34m\"str1에서 k의 위치 : \"\u001b[0m\u001b[1;33m,\u001b[0m \u001b[0mstr1\u001b[0m\u001b[1;33m.\u001b[0m\u001b[0mindex\u001b[0m\u001b[1;33m(\u001b[0m\u001b[1;34m\"k\"\u001b[0m\u001b[1;33m)\u001b[0m\u001b[1;33m)\u001b[0m\u001b[1;33m\u001b[0m\u001b[1;33m\u001b[0m\u001b[0m\n\u001b[0m",
      "\u001b[1;31mValueError\u001b[0m: substring not found"
     ]
    }
   ],
   "source": [
    "# 없는 문자를 검색하면 에러가 발생\n",
    "print(\"str1에서 k의 위치 : \", str1.index(\"k\"))"
   ]
  },
  {
   "cell_type": "code",
   "execution_count": 13,
   "metadata": {},
   "outputs": [
    {
     "name": "stdout",
     "output_type": "stream",
     "text": [
      "str1에서 k의 위치 :  -1\n"
     ]
    }
   ],
   "source": [
    "# 없는 문자를 검색하면 -1를 반환\n",
    "print(\"str1에서 k의 위치 : \", str1.find(\"k\"))"
   ]
  },
  {
   "cell_type": "markdown",
   "metadata": {},
   "source": [
    "\"문자1\".join(\"문자열\") : 문자열에 포함된 문자들 사이에 \"문자1\"을 삽입"
   ]
  },
  {
   "cell_type": "code",
   "execution_count": 18,
   "metadata": {},
   "outputs": [
    {
     "name": "stdout",
     "output_type": "stream",
     "text": [
      "P/y/t/h/o/n\n"
     ]
    }
   ],
   "source": [
    "# 문자들 사이에 빈 공백을 추가\n",
    "print(\"/\".join(str1[:6]))"
   ]
  },
  {
   "cell_type": "markdown",
   "metadata": {},
   "source": [
    "- upper() : 영문자를 대문자로 변경\n",
    "- lower() : 영문자를 소문자로 변경"
   ]
  },
  {
   "cell_type": "code",
   "execution_count": 19,
   "metadata": {},
   "outputs": [
    {
     "name": "stdout",
     "output_type": "stream",
     "text": [
      "PYTHON IS EASY AND SIMPLE\n",
      "python is easy and simple\n"
     ]
    }
   ],
   "source": [
    "print(str1.upper())\n",
    "print(str1.lower())"
   ]
  },
  {
   "cell_type": "markdown",
   "metadata": {},
   "source": [
    "- lstrip() : 왼쪽에 있는 공백을 제거\n",
    "- rstrip() : 오른쪽에 있는 공백을 제거\n",
    "- strip() : 양쪽에 있는 공백을 제거"
   ]
  },
  {
   "cell_type": "code",
   "execution_count": 21,
   "metadata": {},
   "outputs": [
    {
     "name": "stdout",
     "output_type": "stream",
     "text": [
      "Python   \n",
      "  Python\n",
      "Python\n"
     ]
    }
   ],
   "source": [
    "str3 = \"  Python   \"\n",
    "\n",
    "print(str3.lstrip())\n",
    "print(str3.rstrip())\n",
    "print(str3.strip())"
   ]
  },
  {
   "cell_type": "markdown",
   "metadata": {},
   "source": [
    "문자열.replace(\"문자1\", \"문자2\") : 문자열 내의 문자1을 문자2로 변경"
   ]
  },
  {
   "cell_type": "code",
   "execution_count": 22,
   "metadata": {},
   "outputs": [
    {
     "name": "stdout",
     "output_type": "stream",
     "text": [
      "Python_is_easy_and_simple\n"
     ]
    }
   ],
   "source": [
    "print(str1.replace(\" \", \"_\"))"
   ]
  },
  {
   "cell_type": "markdown",
   "metadata": {},
   "source": [
    "문자열.split(\"문자\") : 문자열을 문자을 기준으로 분리"
   ]
  },
  {
   "cell_type": "code",
   "execution_count": 23,
   "metadata": {},
   "outputs": [
    {
     "name": "stdout",
     "output_type": "stream",
     "text": [
      "['Python', 'is', 'easy', 'and', 'simple']\n"
     ]
    }
   ],
   "source": [
    "print(str1.split(\" \"))"
   ]
  },
  {
   "cell_type": "code",
   "execution_count": null,
   "metadata": {},
   "outputs": [],
   "source": []
  },
  {
   "cell_type": "code",
   "execution_count": null,
   "metadata": {},
   "outputs": [],
   "source": []
  },
  {
   "cell_type": "code",
   "execution_count": null,
   "metadata": {},
   "outputs": [],
   "source": []
  },
  {
   "cell_type": "code",
   "execution_count": null,
   "metadata": {},
   "outputs": [],
   "source": []
  }
 ],
 "metadata": {
  "kernelspec": {
   "display_name": "Python 3",
   "language": "python",
   "name": "python3"
  },
  "language_info": {
   "codemirror_mode": {
    "name": "ipython",
    "version": 3
   },
   "file_extension": ".py",
   "mimetype": "text/x-python",
   "name": "python",
   "nbconvert_exporter": "python",
   "pygments_lexer": "ipython3",
   "version": "3.8.5"
  }
 },
 "nbformat": 4,
 "nbformat_minor": 4
}
