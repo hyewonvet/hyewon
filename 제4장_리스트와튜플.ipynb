{
 "cells": [
  {
   "cell_type": "markdown",
   "metadata": {},
   "source": [
    "- 변수 : 1개의 데이터를 저장하는 공간\n",
    "- 리스트/튜플/딕셔너리 : 여러 개의 데이터를 저장하는 공간\n",
    "\n",
    "  - 리스트(list) : 가변공간 (변경(크기, 값)이 가능한 공간)\n",
    "    - 대괄호를 사용하여 값들을 저장\n",
    "  - 튜플 (tuple) : 불가변 공간 (변경(크기, 값)이 불가능한 공간)\n",
    "    - 괄호를 사용하여 값들을 저장"
   ]
  },
  {
   "cell_type": "markdown",
   "metadata": {},
   "source": [
    "### 리스트 (list)\n",
    "\n",
    "- 대괄호를 이용해서 값을 할당\n",
    "- 숫자와 문자를 모두 저장할 수 있음\n",
    "- 리스트에 리스트를 저장할 수 있음\n",
    "- 리스트 요소(값)을 접근하는 방법으로는 indexing, slicing 이 있음\n",
    "  - indexing :  리스트에서 값을 하나를 가져오는 것 또는 위치를 찾은 것\n",
    "  - slicing : 리스트에서 해당 범위의 값을 가져오는 것"
   ]
  },
  {
   "cell_type": "markdown",
   "metadata": {},
   "source": [
    "리스트 생성 및 할당"
   ]
  },
  {
   "cell_type": "code",
   "execution_count": 123,
   "metadata": {},
   "outputs": [],
   "source": [
    "list1 = []\n",
    "list2 = [0, 1, 2, 3, 4]\n",
    "list3 = [\"Python\", \"C\", \"Java\", \"C++\"]\n",
    "list4 = [1, 2, \"Python\"]\n",
    "list5 = [1, 2, [\"Pyton\", \"Java\"]]   # 2차원 리스트"
   ]
  },
  {
   "cell_type": "markdown",
   "metadata": {},
   "source": [
    "리스트 접근"
   ]
  },
  {
   "cell_type": "code",
   "execution_count": 124,
   "metadata": {},
   "outputs": [
    {
     "name": "stdout",
     "output_type": "stream",
     "text": [
      "2\n",
      "2\n",
      "5\n",
      "Python\n",
      "['Pyton', 'Java']\n",
      "Java\n"
     ]
    }
   ],
   "source": [
    "print(list2[2])\n",
    "print(list2[-3])\n",
    "\n",
    "print(list2[2] + list2[3])\n",
    "\n",
    "print(list4[2])\n",
    "\n",
    "# 2차원 리스트에 접근하기\n",
    "print(list5[2])\n",
    "print(list5[2][1])"
   ]
  },
  {
   "cell_type": "code",
   "execution_count": 125,
   "metadata": {},
   "outputs": [
    {
     "data": {
      "text/plain": [
       "[1, 2, 3, ['a', 'b', 'c'], 4, 5, ['d', 'e']]"
      ]
     },
     "execution_count": 125,
     "metadata": {},
     "output_type": "execute_result"
    }
   ],
   "source": [
    "list5 = [1, 2, 3, [\"a\", \"b\", \"c\"], 4, 5, [\"d\", \"e\"]]\n",
    "list5"
   ]
  },
  {
   "cell_type": "code",
   "execution_count": 126,
   "metadata": {},
   "outputs": [
    {
     "name": "stdout",
     "output_type": "stream",
     "text": [
      "3\n",
      "c\n",
      "5\n",
      "e\n"
     ]
    }
   ],
   "source": [
    "# 3\n",
    "print(list5[2])\n",
    "# c\n",
    "print(list5[3][2])\n",
    "# 5\n",
    "print(list5[5])\n",
    "# e\n",
    "print(list5[6][1])"
   ]
  },
  {
   "cell_type": "markdown",
   "metadata": {},
   "source": [
    "슬라이싱 : \\[시작인덱스:끝인덱스+1\\]"
   ]
  },
  {
   "cell_type": "code",
   "execution_count": 127,
   "metadata": {},
   "outputs": [
    {
     "name": "stdout",
     "output_type": "stream",
     "text": [
      "[1, 2, 3]\n",
      "[1, 2, 3]\n",
      "[4, 5, 6]\n",
      "[6, 7]\n",
      "[6, 7]\n"
     ]
    }
   ],
   "source": [
    "list6 = [1, 2, 3, 4, 5, 6, 7]\n",
    "\n",
    "# 1, 2, 3\n",
    "print(list6[0:3])\n",
    "print(list6[:3])\n",
    "\n",
    "# 4, 5, 6\n",
    "print(list6[3:6])\n",
    "\n",
    "# 6, 7\n",
    "print(list6[5:])\n",
    "print(list6[-2:])"
   ]
  },
  {
   "cell_type": "markdown",
   "metadata": {},
   "source": [
    "리스트에서 + 연산자를 사용하면 ? -> 연결(결합) 연산자로 사용"
   ]
  },
  {
   "cell_type": "code",
   "execution_count": 128,
   "metadata": {},
   "outputs": [
    {
     "data": {
      "text/plain": [
       "[1, 2, 3, 4, 5, 6, 7]"
      ]
     },
     "execution_count": 128,
     "metadata": {},
     "output_type": "execute_result"
    }
   ],
   "source": [
    "list7 = [1, 2, 3]\n",
    "list8 = [4, 5, 6, 7]\n",
    "\n",
    "list7 + list8"
   ]
  },
  {
   "cell_type": "markdown",
   "metadata": {},
   "source": [
    "자료관리 : 저장/추가, 검색/불어오기, 수정, 삭제"
   ]
  },
  {
   "cell_type": "markdown",
   "metadata": {},
   "source": [
    "리스트에 값을 추가하기 \n",
    "  \n",
    "리스트명.append(값)\n",
    "\n",
    "- 리스트의 마지막 위치에 값이 추가"
   ]
  },
  {
   "cell_type": "code",
   "execution_count": 129,
   "metadata": {},
   "outputs": [
    {
     "data": {
      "text/plain": [
       "[1, 2, 30]"
      ]
     },
     "execution_count": 129,
     "metadata": {},
     "output_type": "execute_result"
    }
   ],
   "source": [
    "list9 = [1, 2]\n",
    "\n",
    "list9.append(30)\n",
    "\n",
    "list9"
   ]
  },
  {
   "cell_type": "markdown",
   "metadata": {},
   "source": [
    "리스트명.insert(index, 값) \n",
    "\n",
    "- 해당 index에 값을 추가"
   ]
  },
  {
   "cell_type": "code",
   "execution_count": 130,
   "metadata": {},
   "outputs": [
    {
     "data": {
      "text/plain": [
       "[1, 'Python', 2, 30]"
      ]
     },
     "execution_count": 130,
     "metadata": {},
     "output_type": "execute_result"
    }
   ],
   "source": [
    "list9.insert(1, \"Python\")\n",
    "\n",
    "list9"
   ]
  },
  {
   "cell_type": "code",
   "execution_count": 131,
   "metadata": {},
   "outputs": [
    {
     "data": {
      "text/plain": [
       "[1, 'Python', ['C', 'C#', 'C++'], 2, 30]"
      ]
     },
     "execution_count": 131,
     "metadata": {},
     "output_type": "execute_result"
    }
   ],
   "source": [
    "list9.insert(2, [\"C\", \"C#\", \"C++\"])\n",
    "\n",
    "list9"
   ]
  },
  {
   "cell_type": "code",
   "execution_count": 132,
   "metadata": {},
   "outputs": [
    {
     "data": {
      "text/plain": [
       "[1, 'Python', ['C', 'C#', 'C++', 'Basic'], 2, 30]"
      ]
     },
     "execution_count": 132,
     "metadata": {},
     "output_type": "execute_result"
    }
   ],
   "source": [
    "# 2차원 리스트에 값을 추가\n",
    "list9[2].append(\"Basic\")\n",
    "\n",
    "list9"
   ]
  },
  {
   "cell_type": "code",
   "execution_count": 133,
   "metadata": {},
   "outputs": [
    {
     "data": {
      "text/plain": [
       "[1, 'Python', ['C', 'C#', 'Delphi', 'C++', 'Basic'], 2, 30]"
      ]
     },
     "execution_count": 133,
     "metadata": {},
     "output_type": "execute_result"
    }
   ],
   "source": [
    "list9[2].insert(2, \"Delphi\")\n",
    "\n",
    "list9"
   ]
  },
  {
   "cell_type": "markdown",
   "metadata": {},
   "source": [
    "리스트의 값을 수정하기\n",
    "\n",
    "리스트명\\[인덱스\\] = 값\n",
    "\n",
    "- 해당 인덱스의 위치의 값을 덮어쓰기"
   ]
  },
  {
   "cell_type": "code",
   "execution_count": 134,
   "metadata": {},
   "outputs": [
    {
     "data": {
      "text/plain": [
       "[1, '파이썬', ['C', 'C#', 'Delphi', 'C++', 'Basic'], 2, 30]"
      ]
     },
     "execution_count": 134,
     "metadata": {},
     "output_type": "execute_result"
    }
   ],
   "source": [
    "list9[1] = \"파이썬\"\n",
    "\n",
    "list9"
   ]
  },
  {
   "cell_type": "markdown",
   "metadata": {},
   "source": [
    "리스트명\\[시작인덱스:끝인덱스+1\\] = \\[값\\]"
   ]
  },
  {
   "cell_type": "code",
   "execution_count": 135,
   "metadata": {},
   "outputs": [
    {
     "data": {
      "text/plain": [
       "[7, 'Java', ['C', 'C#', 'Delphi', 'C++', 'Basic'], 2, 30]"
      ]
     },
     "execution_count": 135,
     "metadata": {},
     "output_type": "execute_result"
    }
   ],
   "source": [
    "# list9[0:2] = 7   # 왼쪽은 리스트인데 오른쪽이 상수값 -> 에러\n",
    "\n",
    "list9[0:2] = [7, \"Java\"]\n",
    "\n",
    "list9"
   ]
  },
  {
   "cell_type": "code",
   "execution_count": 136,
   "metadata": {},
   "outputs": [
    {
     "data": {
      "text/plain": [
       "[7, ['C', 'C#', 'Delphi', 'C++', 'Basic'], 2, 30]"
      ]
     },
     "execution_count": 136,
     "metadata": {},
     "output_type": "execute_result"
    }
   ],
   "source": [
    "list9[0:2] = [7]\n",
    "\n",
    "list9"
   ]
  },
  {
   "cell_type": "code",
   "execution_count": 137,
   "metadata": {},
   "outputs": [
    {
     "data": {
      "text/plain": [
       "[7, ['C', 'C#', 'Delphi', 'C++', 'Basic'], 2, 30, 20, 30]"
      ]
     },
     "execution_count": 137,
     "metadata": {},
     "output_type": "execute_result"
    }
   ],
   "source": [
    "list9 = list9 + [20, 30]\n",
    "\n",
    "list9"
   ]
  },
  {
   "cell_type": "markdown",
   "metadata": {},
   "source": [
    "리스트 값 삭제\n",
    "\n",
    "- del 리스트명\\[인덱스\\] : 해당 인덱스를 삭제\n",
    "- 리스트명.remove(값) : 첫번째 해당 값을 삭제"
   ]
  },
  {
   "cell_type": "code",
   "execution_count": 117,
   "metadata": {},
   "outputs": [
    {
     "data": {
      "text/plain": [
       "[7, 2, 30, 20, 30]"
      ]
     },
     "execution_count": 117,
     "metadata": {},
     "output_type": "execute_result"
    }
   ],
   "source": [
    "#del list9[1]\n",
    "\n",
    "#list9"
   ]
  },
  {
   "cell_type": "code",
   "execution_count": 138,
   "metadata": {},
   "outputs": [
    {
     "data": {
      "text/plain": [
       "[7, ['C', 'C#', 'Delphi', 'C++', 'Basic'], 2, 20, 30]"
      ]
     },
     "execution_count": 138,
     "metadata": {},
     "output_type": "execute_result"
    }
   ],
   "source": [
    "list9.remove(30)\n",
    "\n",
    "list9"
   ]
  },
  {
   "cell_type": "code",
   "execution_count": 119,
   "metadata": {},
   "outputs": [],
   "source": [
    "#list9.remove(100)"
   ]
  },
  {
   "cell_type": "code",
   "execution_count": 139,
   "metadata": {},
   "outputs": [
    {
     "data": {
      "text/plain": [
       "[7, ['C', 'C#', 'Delphi', 'C++', 'Basic'], 2, 20, 30]"
      ]
     },
     "execution_count": 139,
     "metadata": {},
     "output_type": "execute_result"
    }
   ],
   "source": [
    "list9"
   ]
  },
  {
   "cell_type": "code",
   "execution_count": 140,
   "metadata": {},
   "outputs": [
    {
     "data": {
      "text/plain": [
       "[7, ['C', 'C#', 'Delphi', 'Basic'], 2, 20, 30]"
      ]
     },
     "execution_count": 140,
     "metadata": {},
     "output_type": "execute_result"
    }
   ],
   "source": [
    "list9[1].remove(\"C++\")\n",
    "\n",
    "list9"
   ]
  },
  {
   "cell_type": "code",
   "execution_count": 141,
   "metadata": {},
   "outputs": [
    {
     "data": {
      "text/plain": [
       "[7, ['C', 'Delphi', 'Basic'], 2, 20, 30]"
      ]
     },
     "execution_count": 141,
     "metadata": {},
     "output_type": "execute_result"
    }
   ],
   "source": [
    "del list9[1][1]\n",
    "\n",
    "list9"
   ]
  },
  {
   "cell_type": "code",
   "execution_count": 83,
   "metadata": {},
   "outputs": [
    {
     "data": {
      "text/plain": [
       "[]"
      ]
     },
     "execution_count": 83,
     "metadata": {},
     "output_type": "execute_result"
    }
   ],
   "source": [
    "list9 = []\n",
    "\n",
    "list9"
   ]
  },
  {
   "cell_type": "code",
   "execution_count": 142,
   "metadata": {},
   "outputs": [
    {
     "data": {
      "text/plain": [
       "[20, 10, 30, 14, 20, 33]"
      ]
     },
     "execution_count": 142,
     "metadata": {},
     "output_type": "execute_result"
    }
   ],
   "source": [
    "list10 = [20, 10, 30, 14, 20, 33]\n",
    "\n",
    "list10"
   ]
  },
  {
   "cell_type": "code",
   "execution_count": 143,
   "metadata": {},
   "outputs": [
    {
     "data": {
      "text/plain": [
       "[20, 10, 30, 14, 20]"
      ]
     },
     "execution_count": 143,
     "metadata": {},
     "output_type": "execute_result"
    }
   ],
   "source": [
    "list10.remove(33)\n",
    "\n",
    "list10"
   ]
  },
  {
   "cell_type": "code",
   "execution_count": 144,
   "metadata": {},
   "outputs": [
    {
     "data": {
      "text/plain": [
       "[10, 30, 14, 20]"
      ]
     },
     "execution_count": 144,
     "metadata": {},
     "output_type": "execute_result"
    }
   ],
   "source": [
    "# 지울값이 2개 이상 있다면 첫 번째  것만 삭제\n",
    "list10.remove(20)\n",
    "\n",
    "list10"
   ]
  },
  {
   "cell_type": "code",
   "execution_count": 145,
   "metadata": {},
   "outputs": [
    {
     "data": {
      "text/plain": [
       "[10, 30, 20]"
      ]
     },
     "execution_count": 145,
     "metadata": {},
     "output_type": "execute_result"
    }
   ],
   "source": [
    "# 14의 인덱스가 2이므로\n",
    "del list10[2]\n",
    "\n",
    "list10"
   ]
  },
  {
   "cell_type": "code",
   "execution_count": 146,
   "metadata": {},
   "outputs": [
    {
     "data": {
      "text/plain": [
       "[20, 10, [30, 14, 20], 33]"
      ]
     },
     "execution_count": 146,
     "metadata": {},
     "output_type": "execute_result"
    }
   ],
   "source": [
    "list10 = [20, 10, [30, 14, 20], 33]\n",
    "\n",
    "list10"
   ]
  },
  {
   "cell_type": "code",
   "execution_count": 147,
   "metadata": {},
   "outputs": [
    {
     "data": {
      "text/plain": [
       "[20, 10, [30, 20], 33]"
      ]
     },
     "execution_count": 147,
     "metadata": {},
     "output_type": "execute_result"
    }
   ],
   "source": [
    "del list10[2][1]\n",
    "\n",
    "list10"
   ]
  },
  {
   "cell_type": "code",
   "execution_count": 148,
   "metadata": {},
   "outputs": [
    {
     "data": {
      "text/plain": [
       "[20, 10, [30], 33]"
      ]
     },
     "execution_count": 148,
     "metadata": {},
     "output_type": "execute_result"
    }
   ],
   "source": [
    "list10[2].remove(20)\n",
    "list10"
   ]
  },
  {
   "cell_type": "markdown",
   "metadata": {},
   "source": [
    "정렬 (sorting) : 순서대로 값을 배치하는 작업\n",
    "\n",
    "- 오름차순 정렬 : 작은 값부터 배치하는 것\n",
    "- 내림차순 정렬 : 큰 값부터 배치하는 것\n",
    "\n",
    "- 정렬은 값이 문자인 경우는 한글순 또는 알파벳 순으로 적용\n",
    "- 숫자와 문자 같이 있는 경우는 숫자 -> 문자 순으로 적용"
   ]
  },
  {
   "cell_type": "code",
   "execution_count": 149,
   "metadata": {},
   "outputs": [
    {
     "data": {
      "text/plain": [
       "[10, 14, 20, 20, 30, 33]"
      ]
     },
     "execution_count": 149,
     "metadata": {},
     "output_type": "execute_result"
    }
   ],
   "source": [
    "list11 = [20, 10, 30, 14, 20, 33]\n",
    "\n",
    "#  오름차순 정렬\n",
    "list11.sort()\n",
    "\n",
    "list11"
   ]
  },
  {
   "cell_type": "code",
   "execution_count": 150,
   "metadata": {},
   "outputs": [
    {
     "data": {
      "text/plain": [
       "[33, 20, 14, 30, 10, 20]"
      ]
     },
     "execution_count": 150,
     "metadata": {},
     "output_type": "execute_result"
    }
   ],
   "source": [
    "# 앞과 뒤의 순서를 뒤집기 -> reverse()\n",
    "list11 = [20, 10, 30, 14, 20, 33]\n",
    "\n",
    "list11.reverse()\n",
    "\n",
    "list11"
   ]
  },
  {
   "cell_type": "code",
   "execution_count": 152,
   "metadata": {},
   "outputs": [
    {
     "data": {
      "text/plain": [
       "[33, 30, 20, 20, 14, 10]"
      ]
     },
     "execution_count": 152,
     "metadata": {},
     "output_type": "execute_result"
    }
   ],
   "source": [
    "list11 = [20, 10, 30, 14, 20, 33]\n",
    "\n",
    "# 내림차순\n",
    "list11.sort()\n",
    "list11.reverse()\n",
    "\n",
    "list11"
   ]
  },
  {
   "cell_type": "code",
   "execution_count": 156,
   "metadata": {},
   "outputs": [
    {
     "data": {
      "text/plain": [
       "[1, 2, 5, 5, 6, 7, 8]"
      ]
     },
     "execution_count": 156,
     "metadata": {},
     "output_type": "execute_result"
    }
   ],
   "source": [
    "list12 = [5, 6, 2, 1, 5, 7, 8]\n",
    "\n",
    "# 오름차순 정렬\n",
    "list12.sort()\n",
    "\n",
    "list12"
   ]
  },
  {
   "cell_type": "code",
   "execution_count": 157,
   "metadata": {},
   "outputs": [
    {
     "data": {
      "text/plain": [
       "[8, 7, 6, 5, 5, 2, 1]"
      ]
     },
     "execution_count": 157,
     "metadata": {},
     "output_type": "execute_result"
    }
   ],
   "source": [
    "# 내림차순 정렬\n",
    "list12.reverse()\n",
    "\n",
    "list12"
   ]
  },
  {
   "cell_type": "markdown",
   "metadata": {},
   "source": [
    "해당 값의 인덱스를 반환 : index(값)\n",
    "\n",
    "- 값이 2개 이상 있다면 첫 번째 인덱스를 반환"
   ]
  },
  {
   "cell_type": "code",
   "execution_count": 164,
   "metadata": {},
   "outputs": [
    {
     "data": {
      "text/plain": [
       "5"
      ]
     },
     "execution_count": 164,
     "metadata": {},
     "output_type": "execute_result"
    }
   ],
   "source": [
    "list12 = [5, 6, 2, 1, 5, 7, 8]\n",
    "\n",
    "list12.index(7)"
   ]
  },
  {
   "cell_type": "markdown",
   "metadata": {},
   "source": [
    "pop() : 리스트의 마지막 값을 반환하고 해당 값을 삭제"
   ]
  },
  {
   "cell_type": "code",
   "execution_count": 161,
   "metadata": {},
   "outputs": [
    {
     "data": {
      "text/plain": [
       "8"
      ]
     },
     "execution_count": 161,
     "metadata": {},
     "output_type": "execute_result"
    }
   ],
   "source": [
    "list12 = [5, 6, 2, 1, 5, 7, 8]\n",
    "\n",
    "list12.pop()"
   ]
  },
  {
   "cell_type": "code",
   "execution_count": 162,
   "metadata": {},
   "outputs": [
    {
     "data": {
      "text/plain": [
       "[5, 6, 2, 1, 5, 7]"
      ]
     },
     "execution_count": 162,
     "metadata": {},
     "output_type": "execute_result"
    }
   ],
   "source": [
    "list12"
   ]
  },
  {
   "cell_type": "markdown",
   "metadata": {},
   "source": [
    "리스트 값의 개수를 반환 : len()"
   ]
  },
  {
   "cell_type": "code",
   "execution_count": 163,
   "metadata": {},
   "outputs": [
    {
     "data": {
      "text/plain": [
       "6"
      ]
     },
     "execution_count": 163,
     "metadata": {},
     "output_type": "execute_result"
    }
   ],
   "source": [
    "len(list12)"
   ]
  },
  {
   "cell_type": "markdown",
   "metadata": {},
   "source": [
    "회원 관리 프로그램\n",
    "\n",
    "- 메뉴를 출력 (데이터 저장, 검색, 수정, 삭제, 종료)\n",
    "- 메뉴를 선택\n",
    "- 만약 저장을 선택했다면 회원 이름을 입력받음\n",
    "- 입력받은 리스트에 저장하고 리스트 내용을 출력\n",
    "- 만약 검색을 선택했다면 회원 이름을 입력받음\n",
    "- 입력받은 회원 이름의 인덱스를 출력\n",
    "- 만약 수정을 선택했다면 인덱스와 새 회원이름를 입력받음\n",
    "- 해당 인덱스에 새 회원이름으로 변경하고 리스트 내용을 출력\n",
    "- 만약 삭제를 선택했다면 인덱스를 입력받음\n",
    "- 입력받은 인덱스를 삭제하고 리스트 내용을 출력\n",
    "- 만약 종료를 선택했다면 종료했습니다를 출력"
   ]
  },
  {
   "cell_type": "code",
   "execution_count": 165,
   "metadata": {},
   "outputs": [
    {
     "name": "stdout",
     "output_type": "stream",
     "text": [
      "[1]저장\t[2]검색\t[3]수정\t[4]삭제\t[5]종료\n"
     ]
    }
   ],
   "source": [
    "# 메뉴를 출력 (데이터 저장, 검색, 수정, 삭제, 종료)\n",
    "print(\"[1]저장\\t[2]검색\\t[3]수정\\t[4]삭제\\t[5]종료\") "
   ]
  },
  {
   "cell_type": "code",
   "execution_count": 186,
   "metadata": {},
   "outputs": [
    {
     "name": "stdout",
     "output_type": "stream",
     "text": [
      "메뉴를 선택하세요 >> 4\n"
     ]
    }
   ],
   "source": [
    "# 메뉴를 선택\n",
    "num = int(input(\"메뉴를 선택하세요 >> \"))"
   ]
  },
  {
   "cell_type": "code",
   "execution_count": 170,
   "metadata": {},
   "outputs": [],
   "source": [
    "nameList = []   # 빈 리스트"
   ]
  },
  {
   "cell_type": "code",
   "execution_count": 176,
   "metadata": {},
   "outputs": [
    {
     "name": "stdout",
     "output_type": "stream",
     "text": [
      "회원이름 입력 >> 넘파이\n",
      "['홍길동', '김유신', '이순신', '파이썬', '넘파이']\n"
     ]
    }
   ],
   "source": [
    "# 만약 저장을 선택했다면 회원 이름을 입력받음\n",
    "if num == 1:\n",
    "    memberName = input(\"회원이름 입력 >> \")\n",
    " \n",
    "    # 입력받은 리스트에 저장\n",
    "    nameList.append(memberName)\n",
    "    \n",
    "    # 리스트 내용을 출력\n",
    "    print(nameList)  "
   ]
  },
  {
   "cell_type": "code",
   "execution_count": 178,
   "metadata": {},
   "outputs": [
    {
     "name": "stdout",
     "output_type": "stream",
     "text": [
      "전체 회원수 : 5명\n"
     ]
    }
   ],
   "source": [
    "# 전체 회원수 출력\n",
    "print(\"전체 회원수 : {}명\".format(len(nameList)))"
   ]
  },
  {
   "cell_type": "code",
   "execution_count": 179,
   "metadata": {},
   "outputs": [
    {
     "data": {
      "text/plain": [
       "['김유신', '넘파이', '이순신', '파이썬', '홍길동']"
      ]
     },
     "execution_count": 179,
     "metadata": {},
     "output_type": "execute_result"
    }
   ],
   "source": [
    "# 회원 이름을 ㄱ ㄴ ㄷ 순으로 정렬 (오름차순)\n",
    "nameList.sort()\n",
    "nameList"
   ]
  },
  {
   "cell_type": "code",
   "execution_count": 180,
   "metadata": {},
   "outputs": [
    {
     "data": {
      "text/plain": [
       "['홍길동', '파이썬', '이순신', '넘파이', '김유신']"
      ]
     },
     "execution_count": 180,
     "metadata": {},
     "output_type": "execute_result"
    }
   ],
   "source": [
    "# 회원 이름을 ㅎ ㅍ ㅋ 순으로 정렬 (내림차순)\n",
    "nameList.reverse()\n",
    "nameList"
   ]
  },
  {
   "cell_type": "code",
   "execution_count": 183,
   "metadata": {},
   "outputs": [
    {
     "name": "stdout",
     "output_type": "stream",
     "text": [
      "이름을 입력하세요 >> 파이썬\n",
      "파이썬 회원의 index는 1입니다\n"
     ]
    }
   ],
   "source": [
    "# 만약 검색을 선택했다면 회원 이름을 입력받음\n",
    "# 입력받은 회원 이름의 인덱스를 출력\n",
    "if num == 2:    # 검색\n",
    "    name = input(\"이름을 입력하세요 >> \")\n",
    "    \n",
    "    nameIndex = nameList.index(name)\n",
    "    \n",
    "    print(\"{} 회원의 index는 {}입니다\".format(name, nameIndex))"
   ]
  },
  {
   "cell_type": "code",
   "execution_count": 185,
   "metadata": {},
   "outputs": [
    {
     "name": "stdout",
     "output_type": "stream",
     "text": [
      "인덱스를 입력하세요 >> 1\n",
      "새 회원 이름을 입력하세요 >> Python\n",
      "['홍길동', 'Python', '이순신', '넘파이', '김유신']\n"
     ]
    }
   ],
   "source": [
    "# 만약 수정을 선택했다면 인덱스와 새 회원이름를 입력받음\n",
    "# 해당 인덱스에 새 회원이름으로 변경하고 리스트 내용을 출력\n",
    "if num == 3:\n",
    "    nameIndex = int(input(\"인덱스를 입력하세요 >> \"))\n",
    "    name = input(\"새 회원 이름을 입력하세요 >> \")\n",
    "    \n",
    "    nameList[nameIndex]= name\n",
    "    \n",
    "    print(nameList)"
   ]
  },
  {
   "cell_type": "code",
   "execution_count": 187,
   "metadata": {},
   "outputs": [
    {
     "name": "stdout",
     "output_type": "stream",
     "text": [
      "인덱스를 입력 >> 1\n",
      "['홍길동', '이순신', '넘파이', '김유신']\n"
     ]
    }
   ],
   "source": [
    "# 만약 삭제를 선택했다면 인덱스를 입력받음\n",
    "# 입력받은 인덱스를 삭제하고 리스트 내용을 출력\n",
    "if num == 4:\n",
    "    nameIndex = int(input(\"삭제할 인덱스를 입력 >> \"))\n",
    "    #name = input(\"삭제할 이름을 입력 >> \")\n",
    "    \n",
    "    # 이름 (값)을 입력받았다면 remove()로 삭제\n",
    "    # 인덱스를 입력받았다면 del로 삭제\n",
    "    \n",
    "    del nameList[nameIndex]\n",
    "    #nameList.remove(name)\n",
    "    \n",
    "    print(nameList)"
   ]
  },
  {
   "cell_type": "code",
   "execution_count": 188,
   "metadata": {},
   "outputs": [],
   "source": [
    "if num == 5:\n",
    "    print(\"종료하였습니다\")"
   ]
  },
  {
   "cell_type": "markdown",
   "metadata": {},
   "source": [
    "### 튜플 (tuple)\n",
    "\n",
    "- 사용법은 리스트와 동일\n",
    "- 차이점 : 수정, 삭제, 추가 불가능 (원래 값 그대로 사용)\n",
    "- 차이점 : 괄호를 사용해서 값을 할당\n"
   ]
  },
  {
   "cell_type": "markdown",
   "metadata": {},
   "source": [
    "튜플 선언 및 값 할당"
   ]
  },
  {
   "cell_type": "code",
   "execution_count": 189,
   "metadata": {},
   "outputs": [],
   "source": [
    "tuple1 = ()\n",
    "tuple2 = (1, 2, 3, 4)\n",
    "tuple3 = (\"파이썬\", \"Java\", \"C\")\n",
    "tuple4 = (1, 2, \"파이썬\")\n",
    "tuple5 = (1, 2, (3, 4, 5))"
   ]
  },
  {
   "cell_type": "markdown",
   "metadata": {},
   "source": [
    "튜플 접근"
   ]
  },
  {
   "cell_type": "code",
   "execution_count": 191,
   "metadata": {},
   "outputs": [
    {
     "name": "stdout",
     "output_type": "stream",
     "text": [
      "2\n",
      "4\n"
     ]
    }
   ],
   "source": [
    "# tuple5에서 \n",
    "# 2\n",
    "print(tuple5[1])\n",
    "# 4\n",
    "print(tuple5[2][1])"
   ]
  },
  {
   "cell_type": "code",
   "execution_count": 194,
   "metadata": {},
   "outputs": [
    {
     "name": "stdout",
     "output_type": "stream",
     "text": [
      "(1, 2, 3)\n",
      "(1, 2, 3)\n",
      "(3, 4)\n"
     ]
    }
   ],
   "source": [
    "#tuple2\n",
    "# 1, 2, 3\n",
    "print(tuple2[0:3])\n",
    "print(tuple2[:3])\n",
    "# 3, 4\n",
    "print(tuple2[2:])"
   ]
  },
  {
   "cell_type": "code",
   "execution_count": 195,
   "metadata": {},
   "outputs": [
    {
     "data": {
      "text/plain": [
       "4"
      ]
     },
     "execution_count": 195,
     "metadata": {},
     "output_type": "execute_result"
    }
   ],
   "source": [
    "# 튜플에 저장된 데이터의 수\n",
    "len(tuple2)"
   ]
  },
  {
   "cell_type": "code",
   "execution_count": 196,
   "metadata": {},
   "outputs": [
    {
     "ename": "TypeError",
     "evalue": "'tuple' object does not support item assignment",
     "output_type": "error",
     "traceback": [
      "\u001b[1;31m---------------------------------------------------------------------------\u001b[0m",
      "\u001b[1;31mTypeError\u001b[0m                                 Traceback (most recent call last)",
      "\u001b[1;32m<ipython-input-196-4c7fdbf45e18>\u001b[0m in \u001b[0;36m<module>\u001b[1;34m\u001b[0m\n\u001b[0;32m      1\u001b[0m \u001b[1;31m# 튜플은 데이터를 추가, 수정, 삭제가 불가능\u001b[0m\u001b[1;33m\u001b[0m\u001b[1;33m\u001b[0m\u001b[1;33m\u001b[0m\u001b[0m\n\u001b[1;32m----> 2\u001b[1;33m \u001b[0mtuple2\u001b[0m\u001b[1;33m[\u001b[0m\u001b[1;36m1\u001b[0m\u001b[1;33m]\u001b[0m \u001b[1;33m=\u001b[0m \u001b[1;36m10\u001b[0m\u001b[1;33m\u001b[0m\u001b[1;33m\u001b[0m\u001b[0m\n\u001b[0m",
      "\u001b[1;31mTypeError\u001b[0m: 'tuple' object does not support item assignment"
     ]
    }
   ],
   "source": [
    "# 튜플은 데이터를 추가, 수정, 삭제가 불가능\n",
    "tuple2[1] = 10"
   ]
  },
  {
   "cell_type": "markdown",
   "metadata": {},
   "source": [
    "그래도 튜플의 값을 변경해야 하겠다면 ?\n",
    "\n",
    "- 리스트로 변환해서 변경하고 다시 튜플로 변환\n",
    "- list() : 데이터를 리스트로 변환\n",
    "- tuple() : 데이터를 튜플로 변환"
   ]
  },
  {
   "cell_type": "code",
   "execution_count": 197,
   "metadata": {},
   "outputs": [
    {
     "data": {
      "text/plain": [
       "['파이썬', 'Java', 'C']"
      ]
     },
     "execution_count": 197,
     "metadata": {},
     "output_type": "execute_result"
    }
   ],
   "source": [
    "tuple3 = (\"파이썬\", \"Java\", \"C\")\n",
    "\n",
    "# 튜플를 리스트로 변환\n",
    "list01 = list(tuple3)\n",
    "list01"
   ]
  },
  {
   "cell_type": "code",
   "execution_count": 198,
   "metadata": {},
   "outputs": [
    {
     "data": {
      "text/plain": [
       "('Python', 'Java', 'C')"
      ]
     },
     "execution_count": 198,
     "metadata": {},
     "output_type": "execute_result"
    }
   ],
   "source": [
    "# 파이썬 -> Python으로 변경\n",
    "list01[0] = \"Python\"\n",
    "\n",
    "# 리스트를 튜플로 변환\n",
    "tuple3 = tuple(list01)\n",
    "\n",
    "tuple3"
   ]
  },
  {
   "cell_type": "markdown",
   "metadata": {},
   "source": [
    "### 복습\n",
    "\n",
    "- 변수 : 1개의 데이터를 저장하는 공간\n",
    "- 배열 : 여러개 데이터를 저장하는 공간 (list/tuple/dictionary)\n",
    "\n",
    "- list \n",
    "  - 대괄호를 이용해서 정의\n",
    "  - 숫자, 문자, 숫자+문자, 리스트 저장 가능\n",
    "  - 수정, 삭제, 저장, 검색이 가능\n",
    "- tuple\n",
    "  - 괄호를 이용해서 정의\n",
    "  - 숫자, 문자, 숫자+문자, 리스트 저장 가능\n",
    "  - 수정, 삭제, 저장이 불가능\n",
    "  - 검색만 가능"
   ]
  },
  {
   "cell_type": "code",
   "execution_count": 1,
   "metadata": {},
   "outputs": [],
   "source": [
    "# 리스트를 선언\n",
    "list1 = []\n",
    "list2 = [1, 2, 3, 4]\n",
    "list3 = [\"1\", \"2\", \"3\", \"4\"]\n",
    "list4 = [1, 2, \"3\", \"4\"]\n",
    "list5 = [1, [2, \"3\"], \"4\"]"
   ]
  },
  {
   "cell_type": "code",
   "execution_count": 3,
   "metadata": {},
   "outputs": [
    {
     "name": "stdout",
     "output_type": "stream",
     "text": [
      "[1, 2, 3, 4, 20, 20]\n",
      "[1, 2, 100, 3, 4, 20, 20]\n"
     ]
    }
   ],
   "source": [
    "# 리스트 추가 \n",
    "# 리스트명.append(값) : 리스트의 마지막에 값을 추가\n",
    "# 리스트명.insert(인덱스, 값) : 해당 인덱스 위치에 값을 추가\n",
    "list2.append(20)\n",
    "print(list2)\n",
    "\n",
    "list2.insert(2, 100)\n",
    "print(list2)"
   ]
  },
  {
   "cell_type": "code",
   "execution_count": 4,
   "metadata": {},
   "outputs": [
    {
     "name": "stdout",
     "output_type": "stream",
     "text": [
      "[50, 2, 100, 3, 4, 20, 20]\n"
     ]
    }
   ],
   "source": [
    "# 리스트 값을 변경\n",
    "# 리스트명[인덱스] = 값1 : 해당 인덱스이 값을 값1로 변경\n",
    "list2[0] = 50\n",
    "print(list2)"
   ]
  },
  {
   "cell_type": "code",
   "execution_count": 7,
   "metadata": {},
   "outputs": [
    {
     "name": "stdout",
     "output_type": "stream",
     "text": [
      "['1', '2', '4']\n",
      "['1', '4']\n"
     ]
    }
   ],
   "source": [
    "# 리스트 값을 삭제 \n",
    "# del 리스트명[인덱스] : 해당 인덱스의 값을 삭제\n",
    "# 리스트명.remove(값) : 리스트에서 첫 번째 해당 값을 삭제\n",
    "print(list3)\n",
    "\n",
    "#del list3[2]\n",
    "#print(list3)\n",
    "\n",
    "list3.remove('2')\n",
    "print(list3)"
   ]
  },
  {
   "cell_type": "code",
   "execution_count": 12,
   "metadata": {},
   "outputs": [
    {
     "name": "stdout",
     "output_type": "stream",
     "text": [
      "[100, 50, 20, 20, 4, 3, 2]\n",
      "[2, 3, 4, 20, 20, 50, 100]\n",
      "[100, 50, 20, 20, 4, 3, 2]\n",
      "['Java', 'Python', 'python', '사자', '홍길동']\n"
     ]
    }
   ],
   "source": [
    "# 리스트 정렬\n",
    "# 리스트명.sort() : 리스트를 크기순으로 오름차순 정렬\n",
    "# 리스트명.reverse() : 리스트의 앞뒤 순서를 반대로 뒤집는 기능\n",
    "print(list2)\n",
    "\n",
    "# 오름차순 정렬\n",
    "list2.sort()\n",
    "print(list2)\n",
    "\n",
    "# 내림차순 정렬\n",
    "list2.sort()\n",
    "list2.reverse()\n",
    "print(list2)\n",
    "\n",
    "# 문자는 영문자 -> 한글\n",
    "# 영문자인경우 대문자 -> 소문자\n",
    "list6 = [\"Python\", \"python\", \"Java\", \"홍길동\", \"사자\"]\n",
    "list6.sort()\n",
    "print(list6)"
   ]
  },
  {
   "cell_type": "code",
   "execution_count": 13,
   "metadata": {},
   "outputs": [
    {
     "ename": "TypeError",
     "evalue": "'<' not supported between instances of 'list' and 'str'",
     "output_type": "error",
     "traceback": [
      "\u001b[1;31m---------------------------------------------------------------------------\u001b[0m",
      "\u001b[1;31mTypeError\u001b[0m                                 Traceback (most recent call last)",
      "\u001b[1;32m<ipython-input-13-5eca90709e2d>\u001b[0m in \u001b[0;36m<module>\u001b[1;34m\u001b[0m\n\u001b[0;32m      1\u001b[0m \u001b[0mlist7\u001b[0m \u001b[1;33m=\u001b[0m \u001b[1;33m[\u001b[0m\u001b[1;34m\"Python\"\u001b[0m\u001b[1;33m,\u001b[0m \u001b[1;34m\"python\"\u001b[0m\u001b[1;33m,\u001b[0m \u001b[1;33m[\u001b[0m\u001b[1;34m\"Java\"\u001b[0m\u001b[1;33m,\u001b[0m \u001b[1;34m\"홍길동\"\u001b[0m\u001b[1;33m]\u001b[0m\u001b[1;33m,\u001b[0m \u001b[1;34m\"사자\"\u001b[0m\u001b[1;33m]\u001b[0m\u001b[1;33m\u001b[0m\u001b[1;33m\u001b[0m\u001b[0m\n\u001b[1;32m----> 2\u001b[1;33m \u001b[0mlist7\u001b[0m\u001b[1;33m.\u001b[0m\u001b[0msort\u001b[0m\u001b[1;33m(\u001b[0m\u001b[1;33m)\u001b[0m\u001b[1;33m\u001b[0m\u001b[1;33m\u001b[0m\u001b[0m\n\u001b[0m\u001b[0;32m      3\u001b[0m \u001b[0mprint\u001b[0m\u001b[1;33m(\u001b[0m\u001b[0mlist7\u001b[0m\u001b[1;33m)\u001b[0m\u001b[1;33m\u001b[0m\u001b[1;33m\u001b[0m\u001b[0m\n",
      "\u001b[1;31mTypeError\u001b[0m: '<' not supported between instances of 'list' and 'str'"
     ]
    }
   ],
   "source": [
    "# 내부 리스트는 정렬이 안됨\n",
    "list7 = [\"Python\", \"python\", [\"Java\", \"홍길동\"], \"사자\"]\n",
    "list7.sort()\n",
    "print(list7)"
   ]
  },
  {
   "cell_type": "code",
   "execution_count": 16,
   "metadata": {},
   "outputs": [
    {
     "name": "stdout",
     "output_type": "stream",
     "text": [
      "2\n",
      "사자\n",
      "['Python', 'python', 'Java', '홍길동']\n"
     ]
    }
   ],
   "source": [
    "# 리스트 검색 \n",
    "# 리스트명.index(값) : 해당 값의 첫 번째 인덱스를 반환\n",
    "# 리스트명.pop() : 리스트에서 마지막 인덱스의 값을 반환하고 삭제\n",
    "list6 = [\"Python\", \"python\", \"Java\", \"홍길동\", \"사자\"]\n",
    "\n",
    "print(list6.index(\"Java\"))\n",
    "\n",
    "print(list6.pop())\n",
    "print(list6)"
   ]
  },
  {
   "cell_type": "code",
   "execution_count": 17,
   "metadata": {},
   "outputs": [
    {
     "name": "stdout",
     "output_type": "stream",
     "text": [
      "4\n"
     ]
    }
   ],
   "source": [
    "# 리스트의 크기 -> len(리스트명)\n",
    "print(len(list6))"
   ]
  },
  {
   "cell_type": "code",
   "execution_count": 19,
   "metadata": {},
   "outputs": [],
   "source": [
    "# 튜플 선언하고 할당\n",
    "tuple1 = ()\n",
    "tuple2 = (1, 2, 3, 4)\n",
    "tuple3 = (\"1\", \"2\", \"3\", \"4\")\n",
    "tuple4 = (1, 2, \"3\", \"4\")\n",
    "tuple5 = (1, (2, \"3\"), \"4\")"
   ]
  },
  {
   "cell_type": "code",
   "execution_count": 24,
   "metadata": {},
   "outputs": [
    {
     "name": "stdout",
     "output_type": "stream",
     "text": [
      "4\n",
      "(1, 2)\n",
      "(1, 2)\n",
      "(3, 4)\n"
     ]
    }
   ],
   "source": [
    "# 인덱싱 : 튜플명[인덱스]\n",
    "print(tuple2[3])\n",
    "\n",
    "# 슬라이싱 : 튜플명[시작인덱스:끝인덱스+1]\n",
    "print(tuple2[0:2])\n",
    "print(tuple2[:2])\n",
    "print(tuple2[2:])"
   ]
  },
  {
   "cell_type": "code",
   "execution_count": 25,
   "metadata": {},
   "outputs": [
    {
     "data": {
      "text/plain": [
       "'3'"
      ]
     },
     "execution_count": 25,
     "metadata": {},
     "output_type": "execute_result"
    }
   ],
   "source": [
    "# 2차원 데이터 접근\n",
    "tuple5 = (1, (2, \"3\"), \"4\")\n",
    "\n",
    "# \"3\"\n",
    "tuple5[1][1]"
   ]
  },
  {
   "cell_type": "code",
   "execution_count": 26,
   "metadata": {},
   "outputs": [
    {
     "ename": "TypeError",
     "evalue": "'tuple' object doesn't support item deletion",
     "output_type": "error",
     "traceback": [
      "\u001b[1;31m---------------------------------------------------------------------------\u001b[0m",
      "\u001b[1;31mTypeError\u001b[0m                                 Traceback (most recent call last)",
      "\u001b[1;32m<ipython-input-26-e1bcae959808>\u001b[0m in \u001b[0;36m<module>\u001b[1;34m\u001b[0m\n\u001b[0;32m      1\u001b[0m \u001b[1;31m# 튜플은 수정,삭제,저장이 불가능\u001b[0m\u001b[1;33m\u001b[0m\u001b[1;33m\u001b[0m\u001b[1;33m\u001b[0m\u001b[0m\n\u001b[1;32m----> 2\u001b[1;33m \u001b[1;32mdel\u001b[0m \u001b[0mtuple5\u001b[0m\u001b[1;33m[\u001b[0m\u001b[1;36m2\u001b[0m\u001b[1;33m]\u001b[0m\u001b[1;33m\u001b[0m\u001b[1;33m\u001b[0m\u001b[0m\n\u001b[0m",
      "\u001b[1;31mTypeError\u001b[0m: 'tuple' object doesn't support item deletion"
     ]
    }
   ],
   "source": [
    "# 튜플은 수정,삭제,저장이 불가능\n",
    "del tuple5[2]"
   ]
  },
  {
   "cell_type": "markdown",
   "metadata": {},
   "source": [
    "in 과 not in\n",
    "\n",
    "- in : 문자열, 리스트, 튜플에 해당 값이 있으면 True\n",
    "- not in : 문자열, 리스트, 튜플에 해당 값이 없으면 True\n",
    "\n",
    "값 in 문자열/리스트/튜플명"
   ]
  },
  {
   "cell_type": "code",
   "execution_count": 27,
   "metadata": {},
   "outputs": [],
   "source": [
    "str1 = \"Python is easy\"\n",
    "tuple2 = (1, 2, 3, 4)\n",
    "list6 = [\"Python\", \"python\", \"Java\", \"홍길동\", \"사자\"]"
   ]
  },
  {
   "cell_type": "code",
   "execution_count": 28,
   "metadata": {},
   "outputs": [
    {
     "data": {
      "text/plain": [
       "True"
      ]
     },
     "execution_count": 28,
     "metadata": {},
     "output_type": "execute_result"
    }
   ],
   "source": [
    "\"Python\" in str1"
   ]
  },
  {
   "cell_type": "code",
   "execution_count": 31,
   "metadata": {},
   "outputs": [
    {
     "data": {
      "text/plain": [
       "True"
      ]
     },
     "execution_count": 31,
     "metadata": {},
     "output_type": "execute_result"
    }
   ],
   "source": [
    "\"Python\" not in tuple2"
   ]
  },
  {
   "cell_type": "code",
   "execution_count": 30,
   "metadata": {},
   "outputs": [
    {
     "data": {
      "text/plain": [
       "True"
      ]
     },
     "execution_count": 30,
     "metadata": {},
     "output_type": "execute_result"
    }
   ],
   "source": [
    "\"Python\" in list6"
   ]
  },
  {
   "cell_type": "markdown",
   "metadata": {},
   "source": [
    "list6에 사용자가 입력한 값이 있다면 해당값이 있다고 출력하고 그렇지 않다면 없다고 출력해보세요"
   ]
  },
  {
   "cell_type": "code",
   "execution_count": 33,
   "metadata": {},
   "outputs": [
    {
     "name": "stdout",
     "output_type": "stream",
     "text": [
      "값을 입력하세요 >> 홍길동\n",
      "홍길동 값이 list6에 있습니다\n"
     ]
    }
   ],
   "source": [
    "value = input(\"값을 입력하세요 >> \")\n",
    "\n",
    "if value in list6:\n",
    "    print(\"{} 값이 list6에 있습니다\".format(value))\n",
    "else:    \n",
    "    print(\"{} 값이 list6에 없습니다\".format(value))"
   ]
  }
 ],
 "metadata": {
  "kernelspec": {
   "display_name": "Python 3",
   "language": "python",
   "name": "python3"
  },
  "language_info": {
   "codemirror_mode": {
    "name": "ipython",
    "version": 3
   },
   "file_extension": ".py",
   "mimetype": "text/x-python",
   "name": "python",
   "nbconvert_exporter": "python",
   "pygments_lexer": "ipython3",
   "version": "3.8.5"
  }
 },
 "nbformat": 4,
 "nbformat_minor": 4
}
